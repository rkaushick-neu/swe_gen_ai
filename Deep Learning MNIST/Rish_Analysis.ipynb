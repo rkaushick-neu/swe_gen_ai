{
 "cells": [
  {
   "cell_type": "markdown",
   "metadata": {},
   "source": [
    "# CSYE 7230: Assignment 1\n",
    "\n",
    "Submitted by: Rishabh Kaushick"
   ]
  },
  {
   "cell_type": "markdown",
   "metadata": {},
   "source": [
    "# 1. Environment Setup (5%)"
   ]
  },
  {
   "cell_type": "code",
   "execution_count": 1,
   "metadata": {},
   "outputs": [],
   "source": [
    "# Importing required libraries\n",
    "import pandas as pd\n",
    "import numpy as np\n",
    "import matplotlib.pyplot as plt\n",
    "import seaborn as sns"
   ]
  },
  {
   "cell_type": "markdown",
   "metadata": {},
   "source": [
    "## Installing Libraries"
   ]
  },
  {
   "cell_type": "code",
   "execution_count": 2,
   "metadata": {},
   "outputs": [
    {
     "name": "stdout",
     "output_type": "stream",
     "text": [
      "Requirement already satisfied: tensorflow in /opt/homebrew/anaconda3/envs/info7390/lib/python3.8/site-packages (2.13.0)\n",
      "Requirement already satisfied: tensorflow-macos==2.13.0 in /opt/homebrew/anaconda3/envs/info7390/lib/python3.8/site-packages (from tensorflow) (2.13.0)\n",
      "Requirement already satisfied: absl-py>=1.0.0 in /opt/homebrew/anaconda3/envs/info7390/lib/python3.8/site-packages (from tensorflow-macos==2.13.0->tensorflow) (2.0.0)\n",
      "Requirement already satisfied: astunparse>=1.6.0 in /opt/homebrew/anaconda3/envs/info7390/lib/python3.8/site-packages (from tensorflow-macos==2.13.0->tensorflow) (1.6.3)\n",
      "Requirement already satisfied: flatbuffers>=23.1.21 in /opt/homebrew/anaconda3/envs/info7390/lib/python3.8/site-packages (from tensorflow-macos==2.13.0->tensorflow) (23.5.26)\n",
      "Requirement already satisfied: gast<=0.4.0,>=0.2.1 in /opt/homebrew/anaconda3/envs/info7390/lib/python3.8/site-packages (from tensorflow-macos==2.13.0->tensorflow) (0.4.0)\n",
      "Requirement already satisfied: google-pasta>=0.1.1 in /opt/homebrew/anaconda3/envs/info7390/lib/python3.8/site-packages (from tensorflow-macos==2.13.0->tensorflow) (0.2.0)\n",
      "Requirement already satisfied: h5py>=2.9.0 in /opt/homebrew/anaconda3/envs/info7390/lib/python3.8/site-packages (from tensorflow-macos==2.13.0->tensorflow) (3.10.0)\n",
      "Requirement already satisfied: libclang>=13.0.0 in /opt/homebrew/anaconda3/envs/info7390/lib/python3.8/site-packages (from tensorflow-macos==2.13.0->tensorflow) (16.0.6)\n",
      "Requirement already satisfied: numpy<=1.24.3,>=1.22 in /opt/homebrew/anaconda3/envs/info7390/lib/python3.8/site-packages (from tensorflow-macos==2.13.0->tensorflow) (1.24.3)\n",
      "Requirement already satisfied: opt-einsum>=2.3.2 in /opt/homebrew/anaconda3/envs/info7390/lib/python3.8/site-packages (from tensorflow-macos==2.13.0->tensorflow) (3.3.0)\n",
      "Requirement already satisfied: packaging in /opt/homebrew/anaconda3/envs/info7390/lib/python3.8/site-packages (from tensorflow-macos==2.13.0->tensorflow) (23.2)\n",
      "Requirement already satisfied: protobuf!=4.21.0,!=4.21.1,!=4.21.2,!=4.21.3,!=4.21.4,!=4.21.5,<5.0.0dev,>=3.20.3 in /opt/homebrew/anaconda3/envs/info7390/lib/python3.8/site-packages (from tensorflow-macos==2.13.0->tensorflow) (4.25.3)\n",
      "Requirement already satisfied: setuptools in /opt/homebrew/anaconda3/envs/info7390/lib/python3.8/site-packages (from tensorflow-macos==2.13.0->tensorflow) (68.2.2)\n",
      "Requirement already satisfied: six>=1.12.0 in /opt/homebrew/anaconda3/envs/info7390/lib/python3.8/site-packages (from tensorflow-macos==2.13.0->tensorflow) (1.16.0)\n",
      "Requirement already satisfied: termcolor>=1.1.0 in /opt/homebrew/anaconda3/envs/info7390/lib/python3.8/site-packages (from tensorflow-macos==2.13.0->tensorflow) (2.4.0)\n",
      "Requirement already satisfied: typing-extensions<4.6.0,>=3.6.6 in /opt/homebrew/anaconda3/envs/info7390/lib/python3.8/site-packages (from tensorflow-macos==2.13.0->tensorflow) (4.5.0)\n",
      "Requirement already satisfied: wrapt>=1.11.0 in /opt/homebrew/anaconda3/envs/info7390/lib/python3.8/site-packages (from tensorflow-macos==2.13.0->tensorflow) (1.16.0)\n",
      "Requirement already satisfied: grpcio<2.0,>=1.24.3 in /opt/homebrew/anaconda3/envs/info7390/lib/python3.8/site-packages (from tensorflow-macos==2.13.0->tensorflow) (1.60.1)\n",
      "Requirement already satisfied: tensorboard<2.14,>=2.13 in /opt/homebrew/anaconda3/envs/info7390/lib/python3.8/site-packages (from tensorflow-macos==2.13.0->tensorflow) (2.13.0)\n",
      "Requirement already satisfied: tensorflow-estimator<2.14,>=2.13.0 in /opt/homebrew/anaconda3/envs/info7390/lib/python3.8/site-packages (from tensorflow-macos==2.13.0->tensorflow) (2.13.0)\n",
      "Requirement already satisfied: keras<2.14,>=2.13.1 in /opt/homebrew/anaconda3/envs/info7390/lib/python3.8/site-packages (from tensorflow-macos==2.13.0->tensorflow) (2.13.1)\n",
      "Requirement already satisfied: wheel<1.0,>=0.23.0 in /opt/homebrew/anaconda3/envs/info7390/lib/python3.8/site-packages (from astunparse>=1.6.0->tensorflow-macos==2.13.0->tensorflow) (0.41.2)\n",
      "Requirement already satisfied: google-auth<3,>=1.6.3 in /opt/homebrew/anaconda3/envs/info7390/lib/python3.8/site-packages (from tensorboard<2.14,>=2.13->tensorflow-macos==2.13.0->tensorflow) (2.28.1)\n",
      "Requirement already satisfied: google-auth-oauthlib<1.1,>=0.5 in /opt/homebrew/anaconda3/envs/info7390/lib/python3.8/site-packages (from tensorboard<2.14,>=2.13->tensorflow-macos==2.13.0->tensorflow) (1.0.0)\n",
      "Requirement already satisfied: markdown>=2.6.8 in /opt/homebrew/anaconda3/envs/info7390/lib/python3.8/site-packages (from tensorboard<2.14,>=2.13->tensorflow-macos==2.13.0->tensorflow) (3.5.2)\n",
      "Requirement already satisfied: requests<3,>=2.21.0 in /opt/homebrew/anaconda3/envs/info7390/lib/python3.8/site-packages (from tensorboard<2.14,>=2.13->tensorflow-macos==2.13.0->tensorflow) (2.31.0)\n",
      "Requirement already satisfied: tensorboard-data-server<0.8.0,>=0.7.0 in /opt/homebrew/anaconda3/envs/info7390/lib/python3.8/site-packages (from tensorboard<2.14,>=2.13->tensorflow-macos==2.13.0->tensorflow) (0.7.2)\n",
      "Requirement already satisfied: werkzeug>=1.0.1 in /opt/homebrew/anaconda3/envs/info7390/lib/python3.8/site-packages (from tensorboard<2.14,>=2.13->tensorflow-macos==2.13.0->tensorflow) (3.0.1)\n",
      "Requirement already satisfied: cachetools<6.0,>=2.0.0 in /opt/homebrew/anaconda3/envs/info7390/lib/python3.8/site-packages (from google-auth<3,>=1.6.3->tensorboard<2.14,>=2.13->tensorflow-macos==2.13.0->tensorflow) (5.3.2)\n",
      "Requirement already satisfied: pyasn1-modules>=0.2.1 in /opt/homebrew/anaconda3/envs/info7390/lib/python3.8/site-packages (from google-auth<3,>=1.6.3->tensorboard<2.14,>=2.13->tensorflow-macos==2.13.0->tensorflow) (0.3.0)\n",
      "Requirement already satisfied: rsa<5,>=3.1.4 in /opt/homebrew/anaconda3/envs/info7390/lib/python3.8/site-packages (from google-auth<3,>=1.6.3->tensorboard<2.14,>=2.13->tensorflow-macos==2.13.0->tensorflow) (4.9)\n",
      "Requirement already satisfied: requests-oauthlib>=0.7.0 in /opt/homebrew/anaconda3/envs/info7390/lib/python3.8/site-packages (from google-auth-oauthlib<1.1,>=0.5->tensorboard<2.14,>=2.13->tensorflow-macos==2.13.0->tensorflow) (1.3.1)\n",
      "Requirement already satisfied: importlib-metadata>=4.4 in /opt/homebrew/anaconda3/envs/info7390/lib/python3.8/site-packages (from markdown>=2.6.8->tensorboard<2.14,>=2.13->tensorflow-macos==2.13.0->tensorflow) (7.0.1)\n",
      "Requirement already satisfied: charset-normalizer<4,>=2 in /opt/homebrew/anaconda3/envs/info7390/lib/python3.8/site-packages (from requests<3,>=2.21.0->tensorboard<2.14,>=2.13->tensorflow-macos==2.13.0->tensorflow) (3.3.2)\n",
      "Requirement already satisfied: idna<4,>=2.5 in /opt/homebrew/anaconda3/envs/info7390/lib/python3.8/site-packages (from requests<3,>=2.21.0->tensorboard<2.14,>=2.13->tensorflow-macos==2.13.0->tensorflow) (3.6)\n",
      "Requirement already satisfied: urllib3<3,>=1.21.1 in /opt/homebrew/anaconda3/envs/info7390/lib/python3.8/site-packages (from requests<3,>=2.21.0->tensorboard<2.14,>=2.13->tensorflow-macos==2.13.0->tensorflow) (2.2.1)\n",
      "Requirement already satisfied: certifi>=2017.4.17 in /opt/homebrew/anaconda3/envs/info7390/lib/python3.8/site-packages (from requests<3,>=2.21.0->tensorboard<2.14,>=2.13->tensorflow-macos==2.13.0->tensorflow) (2024.2.2)\n",
      "Requirement already satisfied: MarkupSafe>=2.1.1 in /opt/homebrew/anaconda3/envs/info7390/lib/python3.8/site-packages (from werkzeug>=1.0.1->tensorboard<2.14,>=2.13->tensorflow-macos==2.13.0->tensorflow) (2.1.5)\n",
      "Requirement already satisfied: zipp>=0.5 in /opt/homebrew/anaconda3/envs/info7390/lib/python3.8/site-packages (from importlib-metadata>=4.4->markdown>=2.6.8->tensorboard<2.14,>=2.13->tensorflow-macos==2.13.0->tensorflow) (3.17.0)\n",
      "Requirement already satisfied: pyasn1<0.6.0,>=0.4.6 in /opt/homebrew/anaconda3/envs/info7390/lib/python3.8/site-packages (from pyasn1-modules>=0.2.1->google-auth<3,>=1.6.3->tensorboard<2.14,>=2.13->tensorflow-macos==2.13.0->tensorflow) (0.5.1)\n",
      "Requirement already satisfied: oauthlib>=3.0.0 in /opt/homebrew/anaconda3/envs/info7390/lib/python3.8/site-packages (from requests-oauthlib>=0.7.0->google-auth-oauthlib<1.1,>=0.5->tensorboard<2.14,>=2.13->tensorflow-macos==2.13.0->tensorflow) (3.2.2)\n",
      "Note: you may need to restart the kernel to use updated packages.\n"
     ]
    }
   ],
   "source": [
    "%pip install tensorflow"
   ]
  },
  {
   "cell_type": "markdown",
   "metadata": {},
   "source": [
    "## Loading The Dataset"
   ]
  },
  {
   "cell_type": "code",
   "execution_count": 3,
   "metadata": {},
   "outputs": [],
   "source": [
    "# Loading Fashion MNIST dataset\n",
    "fashion_mnist_train = pd.read_csv('./data/fashion-mnist_train.csv')\n",
    "fashion_mnist_test = pd.read_csv('./data/fashion-mnist_test.csv')"
   ]
  },
  {
   "cell_type": "markdown",
   "metadata": {},
   "source": [
    "## Libraries Used & Their Versions\n",
    "\n",
    "The following libraries have been used in this virtual environment:"
   ]
  },
  {
   "cell_type": "code",
   "execution_count": 4,
   "metadata": {},
   "outputs": [
    {
     "name": "stdout",
     "output_type": "stream",
     "text": [
      "absl-py==2.0.0\n",
      "aiofiles==23.2.1\n",
      "aiohttp==3.9.3\n",
      "aiosignal==1.3.1\n",
      "altair==5.3.0\n",
      "annotated-types==0.6.0\n",
      "anyio==4.0.0\n",
      "appnope==0.1.4\n",
      "argon2-cffi==23.1.0\n",
      "argon2-cffi-bindings==21.2.0\n",
      "arrow==1.3.0\n",
      "asttokens==2.4.1\n",
      "astunparse==1.6.3\n",
      "async-lru==2.0.4\n",
      "async-timeout==4.0.3\n",
      "attrs==23.2.0\n",
      "Babel==2.14.0\n",
      "backcall==0.2.0\n",
      "bayesian-optimization==1.4.3\n",
      "beautifulsoup4==4.12.3\n",
      "bleach==6.1.0\n",
      "blis==0.7.11\n",
      "cachetools==5.3.2\n",
      "catalogue==2.0.10\n",
      "category-encoders==2.6.3\n",
      "certifi==2024.2.2\n",
      "cffi==1.16.0\n",
      "charset-normalizer==3.3.2\n",
      "click==8.1.7\n",
      "cloudpathlib==0.16.0\n",
      "cmdstanpy==1.2.5\n",
      "colorama==0.4.6\n",
      "comm==0.2.1\n",
      "confection==0.1.4\n",
      "contourpy==1.1.1\n",
      "cramjam==2.8.1\n",
      "cycler==0.12.1\n",
      "cymem==2.0.8\n",
      "dataclasses-json==0.6.4\n",
      "debugpy==1.8.1\n",
      "decorator==5.1.1\n",
      "defusedxml==0.7.1\n",
      "distro==1.9.0\n",
      "dnspython==2.6.1\n",
      "en-core-web-sm @ https://github.com/explosion/spacy-models/releases/download/en_core_web_sm-3.7.1/en_core_web_sm-3.7.1-py3-none-any.whl#sha256=86cc141f63942d4b2c5fcee06630fd6f904788d2f0ab005cce45aadb8fb73889\n",
      "et-xmlfile==1.1.0\n",
      "exceptiongroup==1.2.0\n",
      "executing==2.0.1\n",
      "fastapi==0.110.1\n",
      "fastjsonschema==2.19.1\n",
      "fastparquet==2024.2.0\n",
      "ffmpy==0.3.2\n",
      "filelock==3.13.1\n",
      "flatbuffers==23.5.26\n",
      "fonttools==4.49.0\n",
      "fqdn==1.5.1\n",
      "frozenlist==1.4.1\n",
      "fsspec==2024.2.0\n",
      "gast==0.4.0\n",
      "gensim==4.3.2\n",
      "google-auth==2.28.1\n",
      "google-auth-oauthlib==1.0.0\n",
      "google-pasta==0.2.0\n",
      "gradio==4.25.0\n",
      "gradio_client==0.15.0\n",
      "graphviz==0.20.1\n",
      "grpcio==1.60.1\n",
      "h11==0.14.0\n",
      "h5py==3.10.0\n",
      "holidays==0.58\n",
      "httpcore==1.0.3\n",
      "httpx==0.26.0\n",
      "huggingface-hub==0.23.3\n",
      "idna==3.6\n",
      "imageio==2.34.0\n",
      "importlib-metadata==7.0.1\n",
      "importlib-resources==6.1.1\n",
      "ipykernel==6.29.2\n",
      "ipython==8.12.3\n",
      "ipywidgets==8.1.2\n",
      "isoduration==20.11.0\n",
      "jedi==0.19.1\n",
      "Jinja2==3.1.3\n",
      "joblib==1.3.2\n",
      "json5==0.9.14\n",
      "jsonpatch==1.33\n",
      "jsonpointer==2.4\n",
      "jsonschema==4.21.1\n",
      "jsonschema-specifications==2023.12.1\n",
      "jupyter==1.0.0\n",
      "jupyter-console==6.6.3\n",
      "jupyter-events==0.9.0\n",
      "jupyter-lsp==2.2.2\n",
      "jupyter_client==8.6.0\n",
      "jupyter_core==5.7.1\n",
      "jupyter_server==2.12.5\n",
      "jupyter_server_terminals==0.5.2\n",
      "jupyterlab==4.1.2\n",
      "jupyterlab_pygments==0.3.0\n",
      "jupyterlab_server==2.25.3\n",
      "jupyterlab_widgets==3.0.10\n",
      "keras==2.13.1\n",
      "kiwisolver==1.4.5\n",
      "langchain==0.1.14\n",
      "langchain-community==0.0.31\n",
      "langchain-core==0.1.40\n",
      "langchain-text-splitters==0.0.1\n",
      "langcodes==3.3.0\n",
      "langsmith==0.1.40\n",
      "libclang==16.0.6\n",
      "Markdown==3.5.2\n",
      "markdown-it-py==3.0.0\n",
      "MarkupSafe==2.1.5\n",
      "marshmallow==3.21.1\n",
      "matplotlib==3.7.2\n",
      "matplotlib-inline==0.1.6\n",
      "mdurl==0.1.2\n",
      "mglearn==0.2.0\n",
      "mistune==3.0.2\n",
      "mpmath==1.3.0\n",
      "multidict==6.0.5\n",
      "murmurhash==1.0.10\n",
      "mypy-extensions==1.0.0\n",
      "nbclient==0.9.0\n",
      "nbconvert==7.16.1\n",
      "nbformat==5.9.2\n",
      "nest-asyncio==1.6.0\n",
      "networkx==3.1\n",
      "nltk==3.8.1\n",
      "notebook==7.1.0\n",
      "notebook_shim==0.2.4\n",
      "numpy==1.24.3\n",
      "oauthlib==3.2.2\n",
      "openai==1.14.0\n",
      "openpyxl==3.1.2\n",
      "opt-einsum==3.3.0\n",
      "orjson==3.10.0\n",
      "overrides==7.7.0\n",
      "packaging==23.2\n",
      "pandas==2.0.3\n",
      "pandocfilters==1.5.1\n",
      "parso==0.8.3\n",
      "patsy==0.5.6\n",
      "pexpect==4.9.0\n",
      "pickleshare==0.7.5\n",
      "pillow==10.2.0\n",
      "pkgutil_resolve_name==1.3.10\n",
      "platformdirs==4.2.0\n",
      "plotly==5.18.0\n",
      "preshed==3.0.9\n",
      "prometheus_client==0.20.0\n",
      "prompt-toolkit==3.0.43\n",
      "prophet==1.1.6\n",
      "protobuf==4.25.3\n",
      "psutil==5.9.8\n",
      "ptyprocess==0.7.0\n",
      "pure-eval==0.2.2\n",
      "pyarrow==15.0.0\n",
      "pyasn1==0.5.1\n",
      "pyasn1-modules==0.3.0\n",
      "pycparser==2.21\n",
      "pydantic==2.6.3\n",
      "pydantic_core==2.16.3\n",
      "pydotplus==2.0.2\n",
      "pydub==0.25.1\n",
      "Pygments==2.17.2\n",
      "pymongo==4.10.1\n",
      "pyparsing==3.0.9\n",
      "pypdf==4.1.0\n",
      "python-dateutil==2.8.2\n",
      "python-json-logger==2.0.7\n",
      "python-multipart==0.0.9\n",
      "pytz==2024.1\n",
      "PyYAML==6.0.1\n",
      "pyzmq==25.1.2\n",
      "qtconsole==5.5.1\n",
      "QtPy==2.4.1\n",
      "referencing==0.33.0\n",
      "regex==2023.12.25\n",
      "requests==2.31.0\n",
      "requests-oauthlib==1.3.1\n",
      "rfc3339-validator==0.1.4\n",
      "rfc3986-validator==0.1.1\n",
      "rich==13.7.1\n",
      "rpds-py==0.18.0\n",
      "rsa==4.9\n",
      "ruff==0.3.5\n",
      "safetensors==0.4.2\n",
      "scikit-learn==1.3.2\n",
      "scikit-multilearn==0.2.0\n",
      "scipy==1.10.1\n",
      "seaborn==0.13.0\n",
      "semantic-version==2.10.0\n",
      "Send2Trash==1.8.2\n",
      "shellingham==1.5.4\n",
      "six==1.16.0\n",
      "smart-open==6.4.0\n",
      "sniffio==1.3.0\n",
      "soupsieve==2.5\n",
      "spacy==3.7.4\n",
      "spacy-legacy==3.0.12\n",
      "spacy-loggers==1.0.5\n",
      "SQLAlchemy==2.0.29\n",
      "srsly==2.4.8\n",
      "stack-data==0.6.3\n",
      "stanio==0.5.1\n",
      "starlette==0.37.2\n",
      "statsmodels==0.14.1\n",
      "sympy==1.12\n",
      "tenacity==8.2.3\n",
      "tensorboard==2.13.0\n",
      "tensorboard-data-server==0.7.2\n",
      "tensorflow==2.13.0\n",
      "tensorflow-estimator==2.13.0\n",
      "tensorflow-macos==2.13.0\n",
      "termcolor==2.4.0\n",
      "terminado==0.18.0\n",
      "textblob==0.18.0.post0\n",
      "thinc==8.2.3\n",
      "threadpoolctl==3.3.0\n",
      "tiktoken==0.6.0\n",
      "tinycss2==1.2.1\n",
      "tokenizers==0.15.2\n",
      "tomli==2.0.1\n",
      "tomlkit==0.12.0\n",
      "toolz==0.12.1\n",
      "torch==2.2.1\n",
      "torchaudio==2.2.1\n",
      "torchvision==0.17.1\n",
      "tornado==6.4\n",
      "tqdm==4.66.2\n",
      "traitlets==5.14.1\n",
      "transformers==4.38.1\n",
      "typer==0.9.0\n",
      "types-python-dateutil==2.8.19.20240106\n",
      "typing-inspect==0.9.0\n",
      "typing_extensions==4.5.0\n",
      "tzdata==2024.1\n",
      "Unidecode==1.3.8\n",
      "uri-template==1.3.0\n",
      "urllib3==2.2.1\n",
      "uvicorn==0.29.0\n",
      "wasabi==1.1.2\n",
      "wcwidth==0.2.13\n",
      "weasel==0.3.4\n",
      "webcolors==1.13\n",
      "webencodings==0.5.1\n",
      "websocket-client==1.7.0\n",
      "websockets==11.0.3\n",
      "Werkzeug==3.0.1\n",
      "widgetsnbextension==4.0.10\n",
      "wordcloud==1.9.3\n",
      "wrapt==1.16.0\n",
      "xgboost==2.0.3\n",
      "yarl==1.9.4\n",
      "zipp==3.17.0\n"
     ]
    }
   ],
   "source": [
    "# libraires & thier versions\n",
    "!pip freeze"
   ]
  },
  {
   "cell_type": "markdown",
   "metadata": {},
   "source": [
    "All of this code was executed on the "
   ]
  },
  {
   "cell_type": "markdown",
   "metadata": {},
   "source": [
    "# 2. Dataset Exploration (5%)"
   ]
  },
  {
   "cell_type": "markdown",
   "metadata": {},
   "source": [
    "## Data Characteristics"
   ]
  },
  {
   "cell_type": "code",
   "execution_count": 5,
   "metadata": {},
   "outputs": [
    {
     "name": "stdout",
     "output_type": "stream",
     "text": [
      "Number of instances in Train:\n",
      "<class 'pandas.core.frame.DataFrame'>\n",
      "RangeIndex: 60000 entries, 0 to 59999\n",
      "Columns: 785 entries, label to pixel784\n",
      "dtypes: int64(785)\n",
      "memory usage: 359.3 MB\n",
      "\n",
      "Number of instances in Test:\n",
      "<class 'pandas.core.frame.DataFrame'>\n",
      "RangeIndex: 10000 entries, 0 to 9999\n",
      "Columns: 785 entries, label to pixel784\n",
      "dtypes: int64(785)\n",
      "memory usage: 59.9 MB\n"
     ]
    }
   ],
   "source": [
    "# number of instances\n",
    "print(\"Number of instances in Train:\")\n",
    "fashion_mnist_train.info()\n",
    "\n",
    "print(\"\\nNumber of instances in Test:\")\n",
    "fashion_mnist_test.info()"
   ]
  },
  {
   "cell_type": "code",
   "execution_count": 6,
   "metadata": {},
   "outputs": [
    {
     "data": {
      "text/html": [
       "<div>\n",
       "<style scoped>\n",
       "    .dataframe tbody tr th:only-of-type {\n",
       "        vertical-align: middle;\n",
       "    }\n",
       "\n",
       "    .dataframe tbody tr th {\n",
       "        vertical-align: top;\n",
       "    }\n",
       "\n",
       "    .dataframe thead th {\n",
       "        text-align: right;\n",
       "    }\n",
       "</style>\n",
       "<table border=\"1\" class=\"dataframe\">\n",
       "  <thead>\n",
       "    <tr style=\"text-align: right;\">\n",
       "      <th></th>\n",
       "      <th>label</th>\n",
       "      <th>pixel1</th>\n",
       "      <th>pixel2</th>\n",
       "      <th>pixel3</th>\n",
       "      <th>pixel4</th>\n",
       "      <th>pixel5</th>\n",
       "      <th>pixel6</th>\n",
       "      <th>pixel7</th>\n",
       "      <th>pixel8</th>\n",
       "      <th>pixel9</th>\n",
       "      <th>...</th>\n",
       "      <th>pixel775</th>\n",
       "      <th>pixel776</th>\n",
       "      <th>pixel777</th>\n",
       "      <th>pixel778</th>\n",
       "      <th>pixel779</th>\n",
       "      <th>pixel780</th>\n",
       "      <th>pixel781</th>\n",
       "      <th>pixel782</th>\n",
       "      <th>pixel783</th>\n",
       "      <th>pixel784</th>\n",
       "    </tr>\n",
       "  </thead>\n",
       "  <tbody>\n",
       "    <tr>\n",
       "      <th>0</th>\n",
       "      <td>2</td>\n",
       "      <td>0</td>\n",
       "      <td>0</td>\n",
       "      <td>0</td>\n",
       "      <td>0</td>\n",
       "      <td>0</td>\n",
       "      <td>0</td>\n",
       "      <td>0</td>\n",
       "      <td>0</td>\n",
       "      <td>0</td>\n",
       "      <td>...</td>\n",
       "      <td>0</td>\n",
       "      <td>0</td>\n",
       "      <td>0</td>\n",
       "      <td>0</td>\n",
       "      <td>0</td>\n",
       "      <td>0</td>\n",
       "      <td>0</td>\n",
       "      <td>0</td>\n",
       "      <td>0</td>\n",
       "      <td>0</td>\n",
       "    </tr>\n",
       "    <tr>\n",
       "      <th>1</th>\n",
       "      <td>9</td>\n",
       "      <td>0</td>\n",
       "      <td>0</td>\n",
       "      <td>0</td>\n",
       "      <td>0</td>\n",
       "      <td>0</td>\n",
       "      <td>0</td>\n",
       "      <td>0</td>\n",
       "      <td>0</td>\n",
       "      <td>0</td>\n",
       "      <td>...</td>\n",
       "      <td>0</td>\n",
       "      <td>0</td>\n",
       "      <td>0</td>\n",
       "      <td>0</td>\n",
       "      <td>0</td>\n",
       "      <td>0</td>\n",
       "      <td>0</td>\n",
       "      <td>0</td>\n",
       "      <td>0</td>\n",
       "      <td>0</td>\n",
       "    </tr>\n",
       "    <tr>\n",
       "      <th>2</th>\n",
       "      <td>6</td>\n",
       "      <td>0</td>\n",
       "      <td>0</td>\n",
       "      <td>0</td>\n",
       "      <td>0</td>\n",
       "      <td>0</td>\n",
       "      <td>0</td>\n",
       "      <td>0</td>\n",
       "      <td>5</td>\n",
       "      <td>0</td>\n",
       "      <td>...</td>\n",
       "      <td>0</td>\n",
       "      <td>0</td>\n",
       "      <td>0</td>\n",
       "      <td>30</td>\n",
       "      <td>43</td>\n",
       "      <td>0</td>\n",
       "      <td>0</td>\n",
       "      <td>0</td>\n",
       "      <td>0</td>\n",
       "      <td>0</td>\n",
       "    </tr>\n",
       "    <tr>\n",
       "      <th>3</th>\n",
       "      <td>0</td>\n",
       "      <td>0</td>\n",
       "      <td>0</td>\n",
       "      <td>0</td>\n",
       "      <td>1</td>\n",
       "      <td>2</td>\n",
       "      <td>0</td>\n",
       "      <td>0</td>\n",
       "      <td>0</td>\n",
       "      <td>0</td>\n",
       "      <td>...</td>\n",
       "      <td>3</td>\n",
       "      <td>0</td>\n",
       "      <td>0</td>\n",
       "      <td>0</td>\n",
       "      <td>0</td>\n",
       "      <td>1</td>\n",
       "      <td>0</td>\n",
       "      <td>0</td>\n",
       "      <td>0</td>\n",
       "      <td>0</td>\n",
       "    </tr>\n",
       "    <tr>\n",
       "      <th>4</th>\n",
       "      <td>3</td>\n",
       "      <td>0</td>\n",
       "      <td>0</td>\n",
       "      <td>0</td>\n",
       "      <td>0</td>\n",
       "      <td>0</td>\n",
       "      <td>0</td>\n",
       "      <td>0</td>\n",
       "      <td>0</td>\n",
       "      <td>0</td>\n",
       "      <td>...</td>\n",
       "      <td>0</td>\n",
       "      <td>0</td>\n",
       "      <td>0</td>\n",
       "      <td>0</td>\n",
       "      <td>0</td>\n",
       "      <td>0</td>\n",
       "      <td>0</td>\n",
       "      <td>0</td>\n",
       "      <td>0</td>\n",
       "      <td>0</td>\n",
       "    </tr>\n",
       "  </tbody>\n",
       "</table>\n",
       "<p>5 rows × 785 columns</p>\n",
       "</div>"
      ],
      "text/plain": [
       "   label  pixel1  pixel2  pixel3  pixel4  pixel5  pixel6  pixel7  pixel8  \\\n",
       "0      2       0       0       0       0       0       0       0       0   \n",
       "1      9       0       0       0       0       0       0       0       0   \n",
       "2      6       0       0       0       0       0       0       0       5   \n",
       "3      0       0       0       0       1       2       0       0       0   \n",
       "4      3       0       0       0       0       0       0       0       0   \n",
       "\n",
       "   pixel9  ...  pixel775  pixel776  pixel777  pixel778  pixel779  pixel780  \\\n",
       "0       0  ...         0         0         0         0         0         0   \n",
       "1       0  ...         0         0         0         0         0         0   \n",
       "2       0  ...         0         0         0        30        43         0   \n",
       "3       0  ...         3         0         0         0         0         1   \n",
       "4       0  ...         0         0         0         0         0         0   \n",
       "\n",
       "   pixel781  pixel782  pixel783  pixel784  \n",
       "0         0         0         0         0  \n",
       "1         0         0         0         0  \n",
       "2         0         0         0         0  \n",
       "3         0         0         0         0  \n",
       "4         0         0         0         0  \n",
       "\n",
       "[5 rows x 785 columns]"
      ]
     },
     "execution_count": 6,
     "metadata": {},
     "output_type": "execute_result"
    }
   ],
   "source": [
    "fashion_mnist_train.head()"
   ]
  },
  {
   "cell_type": "code",
   "execution_count": 7,
   "metadata": {},
   "outputs": [
    {
     "data": {
      "text/plain": [
       "array([2, 9, 6, 0, 3, 4, 5, 8, 7, 1])"
      ]
     },
     "execution_count": 7,
     "metadata": {},
     "output_type": "execute_result"
    }
   ],
   "source": [
    "# understanding the labels\n",
    "fashion_mnist_train['label'].unique()"
   ]
  },
  {
   "cell_type": "markdown",
   "metadata": {},
   "source": [
    "Based on the information provided in the data description, the label numbers correspond to the following clothing items:\n",
    "<table>\n",
    "  <tr>\n",
    "    <th>Label</th>\n",
    "    <th>Clothing</th>\n",
    "  </tr>\n",
    "  <tr>\n",
    "    <td>0</td>\n",
    "    <td>T-shirt/ Top</td>\n",
    "  </tr>\n",
    "  <tr>\n",
    "    <td>1</td>\n",
    "    <td>Trouser</td>\n",
    "  </tr>\n",
    "  <tr>\n",
    "    <td>2</td>\n",
    "    <td>Pullover</td>\n",
    "  </tr>\n",
    "  <tr>\n",
    "    <td>3</td>\n",
    "    <td>Dress</td>\n",
    "  </tr>\n",
    "  <tr>\n",
    "    <td>4</td>\n",
    "    <td>Coat</td>\n",
    "  </tr>\n",
    "  <tr>\n",
    "    <td>5</td>\n",
    "    <td>Sandal</td>\n",
    "  </tr>\n",
    "  <tr>\n",
    "    <td>6</td>\n",
    "    <td>Shirt</td>\n",
    "  </tr>\n",
    "  <tr>\n",
    "    <td>7</td>\n",
    "    <td>Sneaker</td>\n",
    "  </tr>\n",
    "  <tr>\n",
    "    <td>8</td>\n",
    "    <td>Bag</td>\n",
    "  </tr>\n",
    "  <tr>\n",
    "    <td>9</td>\n",
    "    <td>Ankle boot</td>\n",
    "  </tr>\n",
    "</table>"
   ]
  },
  {
   "cell_type": "code",
   "execution_count": 8,
   "metadata": {},
   "outputs": [
    {
     "data": {
      "text/plain": [
       "label       0\n",
       "pixel1      0\n",
       "pixel2      0\n",
       "pixel3      0\n",
       "pixel4      0\n",
       "           ..\n",
       "pixel780    0\n",
       "pixel781    0\n",
       "pixel782    0\n",
       "pixel783    0\n",
       "pixel784    0\n",
       "Length: 785, dtype: int64"
      ]
     },
     "execution_count": 8,
     "metadata": {},
     "output_type": "execute_result"
    }
   ],
   "source": [
    "fashion_mnist_train.min()"
   ]
  },
  {
   "cell_type": "code",
   "execution_count": 9,
   "metadata": {},
   "outputs": [
    {
     "data": {
      "text/plain": [
       "label         9\n",
       "pixel1       16\n",
       "pixel2       36\n",
       "pixel3      226\n",
       "pixel4      164\n",
       "           ... \n",
       "pixel780    255\n",
       "pixel781    255\n",
       "pixel782    255\n",
       "pixel783    255\n",
       "pixel784    170\n",
       "Length: 785, dtype: int64"
      ]
     },
     "execution_count": 9,
     "metadata": {},
     "output_type": "execute_result"
    }
   ],
   "source": [
    "fashion_mnist_train.max()"
   ]
  },
  {
   "cell_type": "markdown",
   "metadata": {},
   "source": [
    "From the above cells we can see that the pixel value of the image range from 0 to 255."
   ]
  },
  {
   "cell_type": "markdown",
   "metadata": {},
   "source": [
    "### Class Distribution"
   ]
  },
  {
   "cell_type": "code",
   "execution_count": 10,
   "metadata": {},
   "outputs": [
    {
     "name": "stdout",
     "output_type": "stream",
     "text": [
      "Pullover            :   6000 or 10.0%\n",
      "Ankle Boot          :   6000 or 10.0%\n",
      "Shirt               :   6000 or 10.0%\n",
      "T-shirt/ Top        :   6000 or 10.0%\n",
      "Dress               :   6000 or 10.0%\n",
      "Coat                :   6000 or 10.0%\n",
      "Sandal              :   6000 or 10.0%\n",
      "Bag                 :   6000 or 10.0%\n",
      "Sneaker             :   6000 or 10.0%\n",
      "Trouser             :   6000 or 10.0%\n"
     ]
    }
   ],
   "source": [
    "# Create a dictionary for each type of label \n",
    "labels = {0 : \"T-shirt/ Top\", 1: \"Trouser\", 2: \"Pullover\", 3: \"Dress\", 4: \"Coat\",\n",
    "          5: \"Sandal\", 6: \"Shirt\", 7: \"Sneaker\", 8: \"Bag\", 9: \"Ankle Boot\"}\n",
    "\n",
    "def get_classes_distribution(data):\n",
    "    # Get the count for each label\n",
    "    label_counts = data[\"label\"].value_counts()\n",
    "\n",
    "    # Get total number of samples\n",
    "    total_samples = len(data)\n",
    "\n",
    "\n",
    "    # Count the number of items in each class\n",
    "    for i in range(len(label_counts)):\n",
    "        label = labels[label_counts.index[i]]\n",
    "        count = label_counts.values[i]\n",
    "        percent = (count / total_samples) * 100\n",
    "        print(\"{:<20s}:   {} or {}%\".format(label, count, percent))\n",
    "\n",
    "get_classes_distribution(fashion_mnist_train)"
   ]
  },
  {
   "cell_type": "code",
   "execution_count": 11,
   "metadata": {},
   "outputs": [
    {
     "name": "stderr",
     "output_type": "stream",
     "text": [
      "/var/folders/3m/tt_kbz7d2tx3f5cx3v4nd4940000gn/T/ipykernel_25147/1772011397.py:4: FutureWarning: \n",
      "\n",
      "Passing `palette` without assigning `hue` is deprecated and will be removed in v0.14.0. Assign the `x` variable to `hue` and set `legend=False` for the same effect.\n",
      "\n",
      "  g = sns.countplot(data=data, x='label',\n"
     ]
    },
    {
     "data": {
      "image/png": "[encoded data removed]",
      "text/plain": [
       "<Figure size 1200x400 with 1 Axes>"
      ]
     },
     "metadata": {},
     "output_type": "display_data"
    }
   ],
   "source": [
    "def plot_label_per_class(data, title):\n",
    "    f, ax = plt.subplots(1,1, figsize=(12,4))\n",
    "    # Use palette='Set2' for different colors, and map labels to their names for x-axis\n",
    "    g = sns.countplot(data=data, x='label', \n",
    "                     order=data[\"label\"].value_counts().index,\n",
    "                     palette='pastel')\n",
    "    g.set_title(\"Class Distribution of the \"+title)\n",
    "    \n",
    "    # Replace x-axis numeric labels with clothing names\n",
    "    plt.xticks(range(len(labels)), [labels[i] for i in data[\"label\"].value_counts().index], rotation=45, ha='right')\n",
    "    \n",
    "    plt.tight_layout()  # Adjust layout to prevent label cutoff\n",
    "    plt.show()\n",
    "\n",
    "plot_label_per_class(fashion_mnist_train, 'Training Set')"
   ]
  },
  {
   "cell_type": "code",
   "execution_count": 12,
   "metadata": {},
   "outputs": [
    {
     "name": "stderr",
     "output_type": "stream",
     "text": [
      "/var/folders/3m/tt_kbz7d2tx3f5cx3v4nd4940000gn/T/ipykernel_25147/1772011397.py:4: FutureWarning: \n",
      "\n",
      "Passing `palette` without assigning `hue` is deprecated and will be removed in v0.14.0. Assign the `x` variable to `hue` and set `legend=False` for the same effect.\n",
      "\n",
      "  g = sns.countplot(data=data, x='label',\n"
     ]
    },
    {
     "data": {
      "image/png": "[encoded data removed]",
      "text/plain": [
       "<Figure size 1200x400 with 1 Axes>"
      ]
     },
     "metadata": {},
     "output_type": "display_data"
    }
   ],
   "source": [
    "plot_label_per_class(fashion_mnist_test, 'Test Set')"
   ]
  },
  {
   "cell_type": "markdown",
   "metadata": {},
   "source": [
    "## Data Preprocessing"
   ]
  },
  {
   "cell_type": "code",
   "execution_count": 13,
   "metadata": {},
   "outputs": [],
   "source": [
    "# converting the data frame to numpy array for easy manipulation\n",
    "train_np_array = np.array(fashion_mnist_train, dtype = 'float32')\n",
    "test_np_array = np.array(fashion_mnist_test, dtype = 'float32')"
   ]
  },
  {
   "cell_type": "markdown",
   "metadata": {},
   "source": [
    "### Normalizing Data"
   ]
  },
  {
   "cell_type": "markdown",
   "metadata": {},
   "source": [
    "Below are two preprocessing steps:\n",
    "1. Split the attributes (x) and the label (y)\n",
    "2. Normalize the pixel values (instead of 0 to 255 --> 0 to 1)"
   ]
  },
  {
   "cell_type": "code",
   "execution_count": 14,
   "metadata": {},
   "outputs": [],
   "source": [
    "# spliting x train and y train & normalizing x train\n",
    "x_train = train_np_array[:,1:]/255\n",
    "y_train = train_np_array[:,0]\n",
    "\n",
    "# spliting x test and y test & normalizing x test\n",
    "x_test= test_np_array[:,1:]/255\n",
    "y_test=test_np_array[:,0]"
   ]
  },
  {
   "cell_type": "markdown",
   "metadata": {},
   "source": [
    "### Train & Validation Split"
   ]
  },
  {
   "cell_type": "code",
   "execution_count": 15,
   "metadata": {},
   "outputs": [],
   "source": [
    "from sklearn.model_selection import train_test_split"
   ]
  },
  {
   "cell_type": "code",
   "execution_count": 16,
   "metadata": {},
   "outputs": [
    {
     "name": "stdout",
     "output_type": "stream",
     "text": [
      "Number of rows in x_train --> 48000 & in the x_validate --> 12000\n"
     ]
    }
   ],
   "source": [
    "x_train, x_validate, y_train, y_validate = train_test_split(x_train, y_train, test_size=0.2, random_state=2315)\n",
    "print(f'Number of rows in x_train --> {len(x_train)} & in the x_validate --> {len(x_validate)}')"
   ]
  },
  {
   "cell_type": "markdown",
   "metadata": {},
   "source": [
    "## Visualizing Sample Images"
   ]
  },
  {
   "cell_type": "code",
   "execution_count": 17,
   "metadata": {},
   "outputs": [
    {
     "data": {
      "image/png": "[encoded data removed]",
      "text/plain": [
       "<Figure size 1000x1000 with 25 Axes>"
      ]
     },
     "metadata": {},
     "output_type": "display_data"
    }
   ],
   "source": [
    "class_names = ['T-shirt/ Top', 'Trouser', 'Pullover', 'Dress', 'Coat', \n",
    "               'Sandal', 'Shirt', 'Sneaker', 'Bag', 'Ankle Boot']\n",
    "\n",
    "plt.figure(figsize=(10, 10))\n",
    "# plotting the first 25 images with 5x5 subplots\n",
    "for i in range(25):\n",
    "    plt.subplot(5, 5, i + 1)\n",
    "    # no need for any x or y labels (ticks)\n",
    "    plt.xticks([])\n",
    "    plt.yticks([])\n",
    "    # no need for a grid\n",
    "    plt.grid(False)\n",
    "    plt.imshow(x_train[i].reshape((28,28)))\n",
    "    # getting the label number\n",
    "    label_index = int(y_train[i])\n",
    "    # displaying the corresponding clothing class name\n",
    "    plt.title(class_names[label_index])\n",
    "plt.show()"
   ]
  },
  {
   "cell_type": "code",
   "execution_count": 18,
   "metadata": {},
   "outputs": [
    {
     "data": {
      "image/png": "[encoded data removed]",
      "text/plain": [
       "<Figure size 1500x500 with 10 Axes>"
      ]
     },
     "metadata": {},
     "output_type": "display_data"
    }
   ],
   "source": [
    "plt.figure(figsize=(15, 5))\n",
    "\n",
    "# Creating a dict to keep track of the labels we've seen\n",
    "seen_labels = {}\n",
    "\n",
    "# Looping through the dataset until we find one example of each label\n",
    "for i in range(len(x_train)):\n",
    "    label = int(y_train[i])\n",
    "    # if it is not present, let's add it to the dictionary\n",
    "    if label not in seen_labels and len(seen_labels) < 10:\n",
    "        seen_labels[label] = i\n",
    "    # if all 10 labels are found, break out\n",
    "    if len(seen_labels) == 10:\n",
    "        break\n",
    "\n",
    "# Plotting one image from each class\n",
    "for idx, (label, image_idx) in enumerate(sorted(seen_labels.items())):\n",
    "    plt.subplot(2, 5, idx + 1)\n",
    "    plt.xticks([])\n",
    "    plt.yticks([])\n",
    "    plt.grid(False)\n",
    "    plt.imshow(x_train[image_idx].reshape((28,28)))\n",
    "    plt.title(f'{class_names[label]}\\n(Label: {label})')\n",
    "\n",
    "plt.tight_layout()\n",
    "plt.show()"
   ]
  },
  {
   "cell_type": "markdown",
   "metadata": {},
   "source": [
    "# 3. Basic CNN Model Design and Training (25%)\n",
    "\n",
    "- Build a basic CNN model with:\n",
    "  - A convolutional layer followed by max-pooling.\n",
    "  - Additional convolutional layers as needed.\n",
    "  - A fully connected (dense) layer and an output layer with 10 units (softmax activation).\n",
    "- Use ReLU activation for hidden layers.\n",
    "- Compile the model with a suitable loss function (e.g., categorical crossentropy) and optimizer (e.g., Adam or SGD).\n",
    "- Train the model for at least 10 epochs, tracking training/validation accuracy and loss."
   ]
  },
  {
   "cell_type": "markdown",
   "metadata": {},
   "source": [
    "## Data Preprocessing For CNN Model"
   ]
  },
  {
   "cell_type": "markdown",
   "metadata": {},
   "source": [
    "Let's see the shape of our train, validate and test:"
   ]
  },
  {
   "cell_type": "code",
   "execution_count": 19,
   "metadata": {},
   "outputs": [
    {
     "data": {
      "text/plain": [
       "(48000, 784)"
      ]
     },
     "execution_count": 19,
     "metadata": {},
     "output_type": "execute_result"
    }
   ],
   "source": [
    "x_train.shape"
   ]
  },
  {
   "cell_type": "code",
   "execution_count": 20,
   "metadata": {},
   "outputs": [
    {
     "data": {
      "text/plain": [
       "(12000, 784)"
      ]
     },
     "execution_count": 20,
     "metadata": {},
     "output_type": "execute_result"
    }
   ],
   "source": [
    "x_validate.shape"
   ]
  },
  {
   "cell_type": "code",
   "execution_count": 21,
   "metadata": {},
   "outputs": [
    {
     "data": {
      "text/plain": [
       "(10000, 784)"
      ]
     },
     "execution_count": 21,
     "metadata": {},
     "output_type": "execute_result"
    }
   ],
   "source": [
    "x_test.shape"
   ]
  },
  {
   "cell_type": "markdown",
   "metadata": {},
   "source": [
    "From the above we can see that the original shape of the x_train is (48000, 784) & x_validate is (12000, 784).\n",
    "\n",
    "CNN models require input data to be in the following dimension:\n",
    "\n",
    "_Image Shape =(number of samples, m, n, number of color channels)_\n",
    "\n",
    "Where:\n",
    "- _m, n_ – represent the image in a _m_*_n_ matrix.\n",
    "In our case _m_ and _n_ are both 28 (since we have 28 * 28 pixels)\n",
    "- _number of color channels_ – in our case we have only 1 color channel. Sometimes images have 3 color channels, red, green and blue, for each pixel. In such cases this value will be three.\n"
   ]
  },
  {
   "cell_type": "code",
   "execution_count": 22,
   "metadata": {},
   "outputs": [],
   "source": [
    "image_shape = (28, 28, 1)"
   ]
  },
  {
   "cell_type": "code",
   "execution_count": 23,
   "metadata": {},
   "outputs": [],
   "source": [
    "x_train = x_train.reshape(x_train.shape[0],*image_shape)\n",
    "x_test = x_test.reshape(x_test.shape[0],*image_shape)\n",
    "x_validate = x_validate.reshape(x_validate.shape[0],*image_shape)"
   ]
  },
  {
   "cell_type": "code",
   "execution_count": 24,
   "metadata": {},
   "outputs": [
    {
     "name": "stdout",
     "output_type": "stream",
     "text": [
      "x train shape: (48000, 28, 28, 1)\n",
      "x validate shape: (12000, 28, 28, 1)\n",
      "x test shape: (10000, 28, 28, 1)\n"
     ]
    }
   ],
   "source": [
    "print(f'x train shape: {x_train.shape}')\n",
    "print(f'x validate shape: {x_validate.shape}')\n",
    "print(f'x test shape: {x_test.shape}')"
   ]
  },
  {
   "cell_type": "markdown",
   "metadata": {},
   "source": [
    "## Baseline CNN"
   ]
  },
  {
   "cell_type": "code",
   "execution_count": 25,
   "metadata": {},
   "outputs": [],
   "source": [
    "from tensorflow.keras.models import Sequential\n",
    "from tensorflow.keras.layers import Conv2D, MaxPooling2D, Flatten, Dense, Dropout, BatchNormalization\n",
    "from tensorflow.keras.optimizers import Adam"
   ]
  },
  {
   "cell_type": "code",
   "execution_count": 26,
   "metadata": {},
   "outputs": [],
   "source": [
    "\n",
    "cnn_model = Sequential([\n",
    "    Conv2D(filters=32,kernel_size=3,activation='relu',input_shape = image_shape),\n",
    "    MaxPooling2D(pool_size=2) ,# down sampling the output: instead of 28*28 now it get divided by 2 --> 14*14\n",
    "    Flatten(), # flatten out the layers\n",
    "    Dense(32,activation='relu'), # fully connected dense layer\n",
    "    Dense(10,activation = 'softmax') # output layer to make the prediction\n",
    "])"
   ]
  },
  {
   "cell_type": "markdown",
   "metadata": {},
   "source": [
    "### Compiling Baseline CNN"
   ]
  },
  {
   "cell_type": "code",
   "execution_count": 27,
   "metadata": {},
   "outputs": [
    {
     "name": "stderr",
     "output_type": "stream",
     "text": [
      "WARNING:absl:At this time, the v2.11+ optimizer `tf.keras.optimizers.Adam` runs slowly on M1/M2 Macs, please use the legacy Keras optimizer instead, located at `tf.keras.optimizers.legacy.Adam`.\n",
      "WARNING:absl:There is a known slowdown when using v2.11+ Keras optimizers on M1/M2 Macs. Falling back to the legacy Keras optimizer, i.e., `tf.keras.optimizers.legacy.Adam`.\n"
     ]
    }
   ],
   "source": [
    "cnn_model.compile(\n",
    "    loss ='sparse_categorical_crossentropy', \n",
    "    optimizer=Adam(learning_rate=0.001),\n",
    "    metrics =['accuracy']\n",
    ")"
   ]
  },
  {
   "cell_type": "markdown",
   "metadata": {},
   "source": [
    "### Training Baseline CNN"
   ]
  },
  {
   "cell_type": "code",
   "execution_count": 28,
   "metadata": {},
   "outputs": [
    {
     "name": "stdout",
     "output_type": "stream",
     "text": [
      "Epoch 1/50\n",
      "12/12 [==============================] - 3s 253ms/step - loss: 1.7693 - accuracy: 0.4160 - val_loss: 1.2130 - val_accuracy: 0.5852\n",
      "Epoch 2/50\n",
      "12/12 [==============================] - 2s 192ms/step - loss: 0.9721 - accuracy: 0.6850 - val_loss: 0.7462 - val_accuracy: 0.7517\n",
      "Epoch 3/50\n",
      "12/12 [==============================] - 2s 196ms/step - loss: 0.6865 - accuracy: 0.7676 - val_loss: 0.6050 - val_accuracy: 0.7916\n",
      "Epoch 4/50\n",
      "12/12 [==============================] - 2s 183ms/step - loss: 0.5873 - accuracy: 0.7964 - val_loss: 0.5374 - val_accuracy: 0.8116\n",
      "Epoch 5/50\n",
      "12/12 [==============================] - 2s 184ms/step - loss: 0.5313 - accuracy: 0.8174 - val_loss: 0.5128 - val_accuracy: 0.8127\n",
      "Epoch 6/50\n",
      "12/12 [==============================] - 2s 183ms/step - loss: 0.5016 - accuracy: 0.8254 - val_loss: 0.4761 - val_accuracy: 0.8327\n",
      "Epoch 7/50\n",
      "12/12 [==============================] - 2s 191ms/step - loss: 0.4712 - accuracy: 0.8383 - val_loss: 0.4488 - val_accuracy: 0.8452\n",
      "Epoch 8/50\n",
      "12/12 [==============================] - 2s 179ms/step - loss: 0.4475 - accuracy: 0.8466 - val_loss: 0.4308 - val_accuracy: 0.8509\n",
      "Epoch 9/50\n",
      "12/12 [==============================] - 2s 178ms/step - loss: 0.4290 - accuracy: 0.8529 - val_loss: 0.4165 - val_accuracy: 0.8575\n",
      "Epoch 10/50\n",
      "12/12 [==============================] - 2s 179ms/step - loss: 0.4137 - accuracy: 0.8570 - val_loss: 0.4060 - val_accuracy: 0.8593\n",
      "Epoch 11/50\n",
      "12/12 [==============================] - 2s 178ms/step - loss: 0.4030 - accuracy: 0.8617 - val_loss: 0.3941 - val_accuracy: 0.8629\n",
      "Epoch 12/50\n",
      "12/12 [==============================] - 2s 206ms/step - loss: 0.3937 - accuracy: 0.8643 - val_loss: 0.3869 - val_accuracy: 0.8677\n",
      "Epoch 13/50\n",
      "12/12 [==============================] - 2s 187ms/step - loss: 0.3834 - accuracy: 0.8693 - val_loss: 0.3832 - val_accuracy: 0.8663\n",
      "Epoch 14/50\n",
      "12/12 [==============================] - 2s 181ms/step - loss: 0.3746 - accuracy: 0.8711 - val_loss: 0.3782 - val_accuracy: 0.8680\n",
      "Epoch 15/50\n",
      "12/12 [==============================] - 2s 185ms/step - loss: 0.3692 - accuracy: 0.8727 - val_loss: 0.3720 - val_accuracy: 0.8703\n",
      "Epoch 16/50\n",
      "12/12 [==============================] - 2s 194ms/step - loss: 0.3622 - accuracy: 0.8752 - val_loss: 0.3630 - val_accuracy: 0.8737\n",
      "Epoch 17/50\n",
      "12/12 [==============================] - 2s 178ms/step - loss: 0.3561 - accuracy: 0.8775 - val_loss: 0.3598 - val_accuracy: 0.8751\n",
      "Epoch 18/50\n",
      "12/12 [==============================] - 2s 185ms/step - loss: 0.3499 - accuracy: 0.8794 - val_loss: 0.3532 - val_accuracy: 0.8774\n",
      "Epoch 19/50\n",
      "12/12 [==============================] - 2s 192ms/step - loss: 0.3459 - accuracy: 0.8809 - val_loss: 0.3463 - val_accuracy: 0.8794\n",
      "Epoch 20/50\n",
      "12/12 [==============================] - 2s 198ms/step - loss: 0.3387 - accuracy: 0.8830 - val_loss: 0.3412 - val_accuracy: 0.8823\n",
      "Epoch 21/50\n",
      "12/12 [==============================] - 3s 219ms/step - loss: 0.3321 - accuracy: 0.8859 - val_loss: 0.3370 - val_accuracy: 0.8835\n",
      "Epoch 22/50\n",
      "12/12 [==============================] - 2s 191ms/step - loss: 0.3274 - accuracy: 0.8880 - val_loss: 0.3390 - val_accuracy: 0.8844\n",
      "Epoch 23/50\n",
      "12/12 [==============================] - 2s 190ms/step - loss: 0.3264 - accuracy: 0.8863 - val_loss: 0.3343 - val_accuracy: 0.8828\n",
      "Epoch 24/50\n",
      "12/12 [==============================] - 3s 210ms/step - loss: 0.3232 - accuracy: 0.8893 - val_loss: 0.3297 - val_accuracy: 0.8868\n",
      "Epoch 25/50\n",
      "12/12 [==============================] - 2s 185ms/step - loss: 0.3158 - accuracy: 0.8912 - val_loss: 0.3266 - val_accuracy: 0.8857\n",
      "Epoch 26/50\n",
      "12/12 [==============================] - 2s 190ms/step - loss: 0.3133 - accuracy: 0.8920 - val_loss: 0.3232 - val_accuracy: 0.8874\n",
      "Epoch 27/50\n",
      "12/12 [==============================] - 2s 186ms/step - loss: 0.3098 - accuracy: 0.8938 - val_loss: 0.3192 - val_accuracy: 0.8883\n",
      "Epoch 28/50\n",
      "12/12 [==============================] - 2s 206ms/step - loss: 0.3057 - accuracy: 0.8951 - val_loss: 0.3162 - val_accuracy: 0.8902\n",
      "Epoch 29/50\n",
      "12/12 [==============================] - 2s 192ms/step - loss: 0.3025 - accuracy: 0.8965 - val_loss: 0.3162 - val_accuracy: 0.8881\n",
      "Epoch 30/50\n",
      "12/12 [==============================] - 2s 183ms/step - loss: 0.3014 - accuracy: 0.8964 - val_loss: 0.3163 - val_accuracy: 0.8901\n",
      "Epoch 31/50\n",
      "12/12 [==============================] - 2s 179ms/step - loss: 0.2985 - accuracy: 0.8971 - val_loss: 0.3087 - val_accuracy: 0.8927\n",
      "Epoch 32/50\n",
      "12/12 [==============================] - 2s 180ms/step - loss: 0.2964 - accuracy: 0.8980 - val_loss: 0.3085 - val_accuracy: 0.8930\n",
      "Epoch 33/50\n",
      "12/12 [==============================] - 2s 184ms/step - loss: 0.2929 - accuracy: 0.8997 - val_loss: 0.3089 - val_accuracy: 0.8915\n",
      "Epoch 34/50\n",
      "12/12 [==============================] - 2s 187ms/step - loss: 0.2921 - accuracy: 0.8980 - val_loss: 0.3125 - val_accuracy: 0.8907\n",
      "Epoch 35/50\n",
      "12/12 [==============================] - 2s 178ms/step - loss: 0.2883 - accuracy: 0.9011 - val_loss: 0.2998 - val_accuracy: 0.8953\n",
      "Epoch 36/50\n",
      "12/12 [==============================] - 2s 193ms/step - loss: 0.2838 - accuracy: 0.9024 - val_loss: 0.2990 - val_accuracy: 0.8960\n",
      "Epoch 37/50\n",
      "12/12 [==============================] - 2s 190ms/step - loss: 0.2821 - accuracy: 0.9021 - val_loss: 0.2996 - val_accuracy: 0.8949\n",
      "Epoch 38/50\n",
      "12/12 [==============================] - 2s 181ms/step - loss: 0.2795 - accuracy: 0.9042 - val_loss: 0.3022 - val_accuracy: 0.8935\n",
      "Epoch 39/50\n",
      "12/12 [==============================] - 2s 185ms/step - loss: 0.2775 - accuracy: 0.9044 - val_loss: 0.2956 - val_accuracy: 0.8988\n",
      "Epoch 40/50\n",
      "12/12 [==============================] - 2s 189ms/step - loss: 0.2745 - accuracy: 0.9056 - val_loss: 0.2920 - val_accuracy: 0.8979\n",
      "Epoch 41/50\n",
      "12/12 [==============================] - 2s 184ms/step - loss: 0.2728 - accuracy: 0.9056 - val_loss: 0.2949 - val_accuracy: 0.8963\n",
      "Epoch 42/50\n",
      "12/12 [==============================] - 2s 186ms/step - loss: 0.2707 - accuracy: 0.9065 - val_loss: 0.2913 - val_accuracy: 0.8972\n",
      "Epoch 43/50\n",
      "12/12 [==============================] - 2s 186ms/step - loss: 0.2687 - accuracy: 0.9076 - val_loss: 0.2901 - val_accuracy: 0.8990\n",
      "Epoch 44/50\n",
      "12/12 [==============================] - 2s 179ms/step - loss: 0.2674 - accuracy: 0.9069 - val_loss: 0.2893 - val_accuracy: 0.8972\n",
      "Epoch 45/50\n",
      "12/12 [==============================] - 2s 185ms/step - loss: 0.2654 - accuracy: 0.9081 - val_loss: 0.2866 - val_accuracy: 0.9007\n",
      "Epoch 46/50\n",
      "12/12 [==============================] - 2s 179ms/step - loss: 0.2643 - accuracy: 0.9085 - val_loss: 0.2865 - val_accuracy: 0.8985\n",
      "Epoch 47/50\n",
      "12/12 [==============================] - 2s 202ms/step - loss: 0.2638 - accuracy: 0.9077 - val_loss: 0.2850 - val_accuracy: 0.9003\n",
      "Epoch 48/50\n",
      "12/12 [==============================] - 2s 188ms/step - loss: 0.2608 - accuracy: 0.9097 - val_loss: 0.2868 - val_accuracy: 0.9020\n",
      "Epoch 49/50\n",
      "12/12 [==============================] - 2s 185ms/step - loss: 0.2590 - accuracy: 0.9104 - val_loss: 0.2853 - val_accuracy: 0.8998\n",
      "Epoch 50/50\n",
      "12/12 [==============================] - 2s 197ms/step - loss: 0.2565 - accuracy: 0.9108 - val_loss: 0.2834 - val_accuracy: 0.9014\n"
     ]
    }
   ],
   "source": [
    "baseline_cnn_history = cnn_model.fit(\n",
    "    x_train,\n",
    "    y_train,\n",
    "    batch_size=4096,\n",
    "    epochs=50,\n",
    "    verbose=1,\n",
    "    validation_data=(x_validate,y_validate),\n",
    ")"
   ]
  },
  {
   "cell_type": "markdown",
   "metadata": {},
   "source": [
    "### Training Accuracy & Loss Graph"
   ]
  },
  {
   "cell_type": "code",
   "execution_count": 29,
   "metadata": {},
   "outputs": [
    {
     "data": {
      "text/plain": [
       "dict_keys(['loss', 'accuracy', 'val_loss', 'val_accuracy'])"
      ]
     },
     "execution_count": 29,
     "metadata": {},
     "output_type": "execute_result"
    }
   ],
   "source": [
    "baseline_cnn_history.history.keys()"
   ]
  },
  {
   "cell_type": "code",
   "execution_count": 30,
   "metadata": {},
   "outputs": [
    {
     "data": {
      "text/plain": [
       "Text(0.5, 1.0, 'Baseline CNN: Accuracy')"
      ]
     },
     "execution_count": 30,
     "metadata": {},
     "output_type": "execute_result"
    },
    {
     "data": {
      "image/png": "[encoded data removed]",
      "text/plain": [
       "<Figure size 1000x1000 with 2 Axes>"
      ]
     },
     "metadata": {},
     "output_type": "display_data"
    }
   ],
   "source": [
    "plt.figure(figsize=(10, 10))\n",
    "\n",
    "plt.subplot(2, 2, 1)\n",
    "plt.plot(baseline_cnn_history.history['loss'], label='Training Loss')\n",
    "plt.plot(baseline_cnn_history.history['val_loss'], label='Validation Loss')\n",
    "plt.legend()\n",
    "plt.xlabel('Epochs')\n",
    "plt.title('Baseline CNN: Loss Function')\n",
    "\n",
    "plt.subplot(2, 2, 2)\n",
    "plt.plot(baseline_cnn_history.history['accuracy'], label='Training Accuracy')\n",
    "plt.plot(baseline_cnn_history.history['val_accuracy'], label='Validation Accuracy')\n",
    "plt.legend()\n",
    "plt.xlabel('Epochs')\n",
    "plt.ylim(0.4,1)\n",
    "plt.title('Baseline CNN: Accuracy')"
   ]
  },
  {
   "cell_type": "markdown",
   "metadata": {},
   "source": [
    "### Evaluating The Training & Validation Accuracy"
   ]
  },
  {
   "cell_type": "code",
   "execution_count": 31,
   "metadata": {},
   "outputs": [
    {
     "name": "stdout",
     "output_type": "stream",
     "text": [
      "1500/1500 [==============================] - 2s 1ms/step - loss: 0.2584 - accuracy: 0.9104\n",
      "375/375 [==============================] - 0s 1ms/step - loss: 0.2834 - accuracy: 0.9014\n"
     ]
    }
   ],
   "source": [
    "baseline_cnn_training_score = cnn_model.evaluate(x_train, y_train)\n",
    "baseline_cnn_validation_score = cnn_model.evaluate(x_validate, y_validate)"
   ]
  },
  {
   "cell_type": "code",
   "execution_count": 32,
   "metadata": {},
   "outputs": [
    {
     "name": "stdout",
     "output_type": "stream",
     "text": [
      "Baseline CNN Model Loss & Accuracy\n",
      "\n",
      "Training Accuracy: 0.9104%\n",
      "Training Loss: 0.2584\n",
      "\n",
      "Validation Accuracy: 0.9014%\n",
      "Validation Loss: 0.2834\n"
     ]
    }
   ],
   "source": [
    "print(\"Baseline CNN Model Loss & Accuracy\")\n",
    "print('\\nTraining Accuracy: {:.4f}%'.format(baseline_cnn_training_score[1]))\n",
    "print('Training Loss: {:.4f}'.format(baseline_cnn_training_score[0]))\n",
    "print('\\nValidation Accuracy: {:.4f}%'.format(baseline_cnn_validation_score[1]))\n",
    "print('Validation Loss: {:.4f}'.format(baseline_cnn_validation_score[0]))"
   ]
  },
  {
   "cell_type": "markdown",
   "metadata": {},
   "source": [
    "### Evaluating the Test Data"
   ]
  },
  {
   "cell_type": "code",
   "execution_count": 33,
   "metadata": {},
   "outputs": [
    {
     "name": "stdout",
     "output_type": "stream",
     "text": [
      "313/313 [==============================] - 0s 1ms/step - loss: 0.2843 - accuracy: 0.9021\n"
     ]
    }
   ],
   "source": [
    "# Get the predictions for the test data\n",
    "baseline_cnn_test_score = cnn_model.evaluate(x_test, y_test)"
   ]
  },
  {
   "cell_type": "code",
   "execution_count": 34,
   "metadata": {},
   "outputs": [
    {
     "name": "stdout",
     "output_type": "stream",
     "text": [
      "Baseline CNN Model Loss & Accuracy\n",
      "\n",
      "Testing Accuracy: 0.9021%\n",
      "Testing Loss: 0.2843\n"
     ]
    }
   ],
   "source": [
    "print(\"Baseline CNN Model Loss & Accuracy\")\n",
    "print('\\nTesting Accuracy: {:.4f}%'.format(baseline_cnn_test_score[1]))\n",
    "print('Testing Loss: {:.4f}'.format(baseline_cnn_test_score[0]))"
   ]
  },
  {
   "cell_type": "markdown",
   "metadata": {},
   "source": [
    "### Classification Report\n",
    "Let us explore how our baseline CNN model has performed on all the output labels"
   ]
  },
  {
   "cell_type": "code",
   "execution_count": 35,
   "metadata": {},
   "outputs": [
    {
     "name": "stdout",
     "output_type": "stream",
     "text": [
      "313/313 [==============================] - 0s 1ms/step\n"
     ]
    },
    {
     "data": {
      "text/plain": [
       "array([[9.6152371e-01, 1.5174462e-07, 7.4351043e-04, ..., 2.0506699e-11,\n",
       "        1.1388197e-03, 6.9602254e-12],\n",
       "       [1.5336374e-05, 9.9985898e-01, 1.4235376e-07, ..., 7.0598435e-06,\n",
       "        1.6698398e-06, 1.3500552e-07],\n",
       "       [3.7286270e-02, 7.4196737e-06, 6.3558722e-01, ..., 7.0114299e-07,\n",
       "        1.2576030e-05, 1.6286469e-05],\n",
       "       ...,\n",
       "       [4.9612821e-09, 5.9996463e-10, 1.1582672e-06, ..., 2.3194600e-08,\n",
       "        9.9998415e-01, 5.0721396e-09],\n",
       "       [2.1574723e-03, 1.3061467e-06, 1.0702092e-04, ..., 3.2959271e-09,\n",
       "        9.5480043e-01, 4.8185598e-07],\n",
       "       [4.3479307e-03, 9.2310220e-01, 4.7963681e-03, ..., 5.2983637e-08,\n",
       "        6.0060382e-04, 8.5281920e-07]], dtype=float32)"
      ]
     },
     "execution_count": 35,
     "metadata": {},
     "output_type": "execute_result"
    }
   ],
   "source": [
    "y_pred = cnn_model.predict(x_test)\n",
    "y_pred"
   ]
  },
  {
   "cell_type": "code",
   "execution_count": 36,
   "metadata": {},
   "outputs": [
    {
     "data": {
      "text/plain": [
       "array([9.6152371e-01, 1.5174462e-07, 7.4351043e-04, 2.4552699e-03,\n",
       "       2.7851796e-05, 1.6934007e-12, 3.4110796e-02, 2.0506699e-11,\n",
       "       1.1388197e-03, 6.9602254e-12], dtype=float32)"
      ]
     },
     "execution_count": 36,
     "metadata": {},
     "output_type": "execute_result"
    }
   ],
   "source": [
    "y_pred[0]"
   ]
  },
  {
   "cell_type": "markdown",
   "metadata": {},
   "source": [
    "The above shows that our baseline CNN model is giving out probabilities for each of the 10 labels. We must find out which one is the highest probability to assign that specific label.  "
   ]
  },
  {
   "cell_type": "code",
   "execution_count": 37,
   "metadata": {},
   "outputs": [],
   "source": [
    "# Convert probabilities to class labels by taking argmax\n",
    "y_pred_classes = np.argmax(y_pred, axis=1)"
   ]
  },
  {
   "cell_type": "code",
   "execution_count": 38,
   "metadata": {},
   "outputs": [
    {
     "data": {
      "text/plain": [
       "array([0, 1, 2, ..., 8, 8, 1])"
      ]
     },
     "execution_count": 38,
     "metadata": {},
     "output_type": "execute_result"
    }
   ],
   "source": [
    "y_pred_classes"
   ]
  },
  {
   "cell_type": "code",
   "execution_count": 39,
   "metadata": {},
   "outputs": [
    {
     "name": "stdout",
     "output_type": "stream",
     "text": [
      "CNN Baseline Model: Classification Report on Test Data:\n",
      "              precision    recall  f1-score   support\n",
      "\n",
      "T-shirt/ Top       0.81      0.89      0.85      1000\n",
      "     Trouser       0.99      0.97      0.98      1000\n",
      "    Pullover       0.84      0.88      0.86      1000\n",
      "       Dress       0.88      0.94      0.91      1000\n",
      "        Coat       0.88      0.84      0.86      1000\n",
      "      Sandal       0.96      0.96      0.96      1000\n",
      "       Shirt       0.78      0.65      0.71      1000\n",
      "     Sneaker       0.94      0.96      0.95      1000\n",
      "         Bag       0.97      0.97      0.97      1000\n",
      "  Ankle Boot       0.96      0.95      0.96      1000\n",
      "\n",
      "    accuracy                           0.90     10000\n",
      "   macro avg       0.90      0.90      0.90     10000\n",
      "weighted avg       0.90      0.90      0.90     10000\n",
      "\n"
     ]
    }
   ],
   "source": [
    "from sklearn.metrics import classification_report\n",
    "print('CNN Baseline Model: Classification Report on Test Data:')\n",
    "print(classification_report(y_true=y_test, y_pred=y_pred_classes, target_names=class_names))"
   ]
  },
  {
   "cell_type": "markdown",
   "metadata": {},
   "source": [
    "# 4. Experimentation with Architectures (30%)\n",
    "\n",
    "- Modify the CNN architecture to include:\n",
    "  - Different numbers of convolutional layers or filters.\n",
    "  - Use of dropout layers for regularization.\n",
    "  - Batch normalization layers for improved training stability.\n",
    "- Train each variation and document the impact on performance."
   ]
  },
  {
   "cell_type": "markdown",
   "metadata": {},
   "source": [
    "# 5. Model Evaluation and Comparison (20%)"
   ]
  },
  {
   "cell_type": "code",
   "execution_count": null,
   "metadata": {},
   "outputs": [],
   "source": []
  },
  {
   "cell_type": "markdown",
   "metadata": {},
   "source": [
    "# 6. Analysis and Insights (10%)"
   ]
  }
 ],
 "metadata": {
  "kernelspec": {
   "display_name": "info7390",
   "language": "python",
   "name": "python3"
  },
  "language_info": {
   "codemirror_mode": {
    "name": "ipython",
    "version": 3
   },
   "file_extension": ".py",
   "mimetype": "text/x-python",
   "name": "python",
   "nbconvert_exporter": "python",
   "pygments_lexer": "ipython3",
   "version": "3.8.17"
  }
 },
 "nbformat": 4,
 "nbformat_minor": 2
}
