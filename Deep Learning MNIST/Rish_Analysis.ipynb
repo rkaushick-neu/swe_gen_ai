{
 "cells": [
  {
   "cell_type": "markdown",
   "metadata": {},
   "source": [
    "# CSYE 7230: Assignment 1\n",
    "\n",
    "Submitted by: Rishabh Kaushick"
   ]
  },
  {
   "cell_type": "markdown",
   "metadata": {},
   "source": [
    "# 1. Environment Setup (5%)"
   ]
  },
  {
   "cell_type": "code",
   "execution_count": 1,
   "metadata": {},
   "outputs": [],
   "source": [
    "# Importing required libraries\n",
    "import pandas as pd\n",
    "import numpy as np\n",
    "import matplotlib.pyplot as plt"
   ]
  },
  {
   "cell_type": "markdown",
   "metadata": {},
   "source": [
    "## Loading The Dataset"
   ]
  },
  {
   "cell_type": "code",
   "execution_count": 2,
   "metadata": {},
   "outputs": [],
   "source": [
    "# Loading Fashion MNIST dataset\n",
    "fashion_mnist_train = pd.read_csv('./data/fashion-mnist_train.csv')\n",
    "fashion_mnist_test = pd.read_csv('./data/fashion-mnist_test.csv')"
   ]
  },
  {
   "cell_type": "markdown",
   "metadata": {},
   "source": [
    "## Libraries Used & Their Versions\n",
    "\n",
    "The following libraries have been used in this virtual environment:"
   ]
  },
  {
   "cell_type": "code",
   "execution_count": 3,
   "metadata": {},
   "outputs": [
    {
     "name": "stdout",
     "output_type": "stream",
     "text": [
      "absl-py==2.0.0\n",
      "aiofiles==23.2.1\n",
      "aiohttp==3.9.3\n",
      "aiosignal==1.3.1\n",
      "altair==5.3.0\n",
      "annotated-types==0.6.0\n",
      "anyio==4.0.0\n",
      "appnope==0.1.4\n",
      "argon2-cffi==23.1.0\n",
      "argon2-cffi-bindings==21.2.0\n",
      "arrow==1.3.0\n",
      "asttokens==2.4.1\n",
      "astunparse==1.6.3\n",
      "async-lru==2.0.4\n",
      "async-timeout==4.0.3\n",
      "attrs==23.2.0\n",
      "Babel==2.14.0\n",
      "backcall==0.2.0\n",
      "bayesian-optimization==1.4.3\n",
      "beautifulsoup4==4.12.3\n",
      "bleach==6.1.0\n",
      "blis==0.7.11\n",
      "cachetools==5.3.2\n",
      "catalogue==2.0.10\n",
      "category-encoders==2.6.3\n",
      "certifi==2024.2.2\n",
      "cffi==1.16.0\n",
      "charset-normalizer==3.3.2\n",
      "click==8.1.7\n",
      "cloudpathlib==0.16.0\n",
      "cmdstanpy==1.2.5\n",
      "colorama==0.4.6\n",
      "comm==0.2.1\n",
      "confection==0.1.4\n",
      "contourpy==1.1.1\n",
      "cramjam==2.8.1\n",
      "cycler==0.12.1\n",
      "cymem==2.0.8\n",
      "dataclasses-json==0.6.4\n",
      "debugpy==1.8.1\n",
      "decorator==5.1.1\n",
      "defusedxml==0.7.1\n",
      "distro==1.9.0\n",
      "dnspython==2.6.1\n",
      "en-core-web-sm @ https://github.com/explosion/spacy-models/releases/download/en_core_web_sm-3.7.1/en_core_web_sm-3.7.1-py3-none-any.whl#sha256=86cc141f63942d4b2c5fcee06630fd6f904788d2f0ab005cce45aadb8fb73889\n",
      "et-xmlfile==1.1.0\n",
      "exceptiongroup==1.2.0\n",
      "executing==2.0.1\n",
      "fastapi==0.110.1\n",
      "fastjsonschema==2.19.1\n",
      "fastparquet==2024.2.0\n",
      "ffmpy==0.3.2\n",
      "filelock==3.13.1\n",
      "flatbuffers==23.5.26\n",
      "fonttools==4.49.0\n",
      "fqdn==1.5.1\n",
      "frozenlist==1.4.1\n",
      "fsspec==2024.2.0\n",
      "gast==0.4.0\n",
      "gensim==4.3.2\n",
      "google-auth==2.28.1\n",
      "google-auth-oauthlib==1.0.0\n",
      "google-pasta==0.2.0\n",
      "gradio==4.25.0\n",
      "gradio_client==0.15.0\n",
      "graphviz==0.20.1\n",
      "grpcio==1.60.1\n",
      "h11==0.14.0\n",
      "h5py==3.10.0\n",
      "holidays==0.58\n",
      "httpcore==1.0.3\n",
      "httpx==0.26.0\n",
      "huggingface-hub==0.23.3\n",
      "idna==3.6\n",
      "imageio==2.34.0\n",
      "importlib-metadata==7.0.1\n",
      "importlib-resources==6.1.1\n",
      "ipykernel==6.29.2\n",
      "ipython==8.12.3\n",
      "ipywidgets==8.1.2\n",
      "isoduration==20.11.0\n",
      "jedi==0.19.1\n",
      "Jinja2==3.1.3\n",
      "joblib==1.3.2\n",
      "json5==0.9.14\n",
      "jsonpatch==1.33\n",
      "jsonpointer==2.4\n",
      "jsonschema==4.21.1\n",
      "jsonschema-specifications==2023.12.1\n",
      "jupyter==1.0.0\n",
      "jupyter-console==6.6.3\n",
      "jupyter-events==0.9.0\n",
      "jupyter-lsp==2.2.2\n",
      "jupyter_client==8.6.0\n",
      "jupyter_core==5.7.1\n",
      "jupyter_server==2.12.5\n",
      "jupyter_server_terminals==0.5.2\n",
      "jupyterlab==4.1.2\n",
      "jupyterlab_pygments==0.3.0\n",
      "jupyterlab_server==2.25.3\n",
      "jupyterlab_widgets==3.0.10\n",
      "keras==2.13.1\n",
      "kiwisolver==1.4.5\n",
      "langchain==0.1.14\n",
      "langchain-community==0.0.31\n",
      "langchain-core==0.1.40\n",
      "langchain-text-splitters==0.0.1\n",
      "langcodes==3.3.0\n",
      "langsmith==0.1.40\n",
      "libclang==16.0.6\n",
      "Markdown==3.5.2\n",
      "markdown-it-py==3.0.0\n",
      "MarkupSafe==2.1.5\n",
      "marshmallow==3.21.1\n",
      "matplotlib==3.7.2\n",
      "matplotlib-inline==0.1.6\n",
      "mdurl==0.1.2\n",
      "mglearn==0.2.0\n",
      "mistune==3.0.2\n",
      "mpmath==1.3.0\n",
      "multidict==6.0.5\n",
      "murmurhash==1.0.10\n",
      "mypy-extensions==1.0.0\n",
      "nbclient==0.9.0\n",
      "nbconvert==7.16.1\n",
      "nbformat==5.9.2\n",
      "nest-asyncio==1.6.0\n",
      "networkx==3.1\n",
      "nltk==3.8.1\n",
      "notebook==7.1.0\n",
      "notebook_shim==0.2.4\n",
      "numpy==1.24.3\n",
      "oauthlib==3.2.2\n",
      "openai==1.14.0\n",
      "openpyxl==3.1.2\n",
      "opt-einsum==3.3.0\n",
      "orjson==3.10.0\n",
      "overrides==7.7.0\n",
      "packaging==23.2\n",
      "pandas==2.0.3\n",
      "pandocfilters==1.5.1\n",
      "parso==0.8.3\n",
      "patsy==0.5.6\n",
      "pexpect==4.9.0\n",
      "pickleshare==0.7.5\n",
      "pillow==10.2.0\n",
      "pkgutil_resolve_name==1.3.10\n",
      "platformdirs==4.2.0\n",
      "plotly==5.18.0\n",
      "preshed==3.0.9\n",
      "prometheus_client==0.20.0\n",
      "prompt-toolkit==3.0.43\n",
      "prophet==1.1.6\n",
      "protobuf==4.25.3\n",
      "psutil==5.9.8\n",
      "ptyprocess==0.7.0\n",
      "pure-eval==0.2.2\n",
      "pyarrow==15.0.0\n",
      "pyasn1==0.5.1\n",
      "pyasn1-modules==0.3.0\n",
      "pycparser==2.21\n",
      "pydantic==2.6.3\n",
      "pydantic_core==2.16.3\n",
      "pydotplus==2.0.2\n",
      "pydub==0.25.1\n",
      "Pygments==2.17.2\n",
      "pymongo==4.10.1\n",
      "pyparsing==3.0.9\n",
      "pypdf==4.1.0\n",
      "python-dateutil==2.8.2\n",
      "python-json-logger==2.0.7\n",
      "python-multipart==0.0.9\n",
      "pytz==2024.1\n",
      "PyYAML==6.0.1\n",
      "pyzmq==25.1.2\n",
      "qtconsole==5.5.1\n",
      "QtPy==2.4.1\n",
      "referencing==0.33.0\n",
      "regex==2023.12.25\n",
      "requests==2.31.0\n",
      "requests-oauthlib==1.3.1\n",
      "rfc3339-validator==0.1.4\n",
      "rfc3986-validator==0.1.1\n",
      "rich==13.7.1\n",
      "rpds-py==0.18.0\n",
      "rsa==4.9\n",
      "ruff==0.3.5\n",
      "safetensors==0.4.2\n",
      "scikit-learn==1.3.2\n",
      "scikit-multilearn==0.2.0\n",
      "scipy==1.10.1\n",
      "seaborn==0.13.0\n",
      "semantic-version==2.10.0\n",
      "Send2Trash==1.8.2\n",
      "shellingham==1.5.4\n",
      "six==1.16.0\n",
      "smart-open==6.4.0\n",
      "sniffio==1.3.0\n",
      "soupsieve==2.5\n",
      "spacy==3.7.4\n",
      "spacy-legacy==3.0.12\n",
      "spacy-loggers==1.0.5\n",
      "SQLAlchemy==2.0.29\n",
      "srsly==2.4.8\n",
      "stack-data==0.6.3\n",
      "stanio==0.5.1\n",
      "starlette==0.37.2\n",
      "statsmodels==0.14.1\n",
      "sympy==1.12\n",
      "tenacity==8.2.3\n",
      "tensorboard==2.13.0\n",
      "tensorboard-data-server==0.7.2\n",
      "tensorflow==2.13.0\n",
      "tensorflow-estimator==2.13.0\n",
      "tensorflow-macos==2.13.0\n",
      "termcolor==2.4.0\n",
      "terminado==0.18.0\n",
      "textblob==0.18.0.post0\n",
      "thinc==8.2.3\n",
      "threadpoolctl==3.3.0\n",
      "tiktoken==0.6.0\n",
      "tinycss2==1.2.1\n",
      "tokenizers==0.15.2\n",
      "tomli==2.0.1\n",
      "tomlkit==0.12.0\n",
      "toolz==0.12.1\n",
      "torch==2.2.1\n",
      "torchaudio==2.2.1\n",
      "torchvision==0.17.1\n",
      "tornado==6.4\n",
      "tqdm==4.66.2\n",
      "traitlets==5.14.1\n",
      "transformers==4.38.1\n",
      "typer==0.9.0\n",
      "types-python-dateutil==2.8.19.20240106\n",
      "typing-inspect==0.9.0\n",
      "typing_extensions==4.10.0\n",
      "tzdata==2024.1\n",
      "Unidecode==1.3.8\n",
      "uri-template==1.3.0\n",
      "urllib3==2.2.1\n",
      "uvicorn==0.29.0\n",
      "wasabi==1.1.2\n",
      "wcwidth==0.2.13\n",
      "weasel==0.3.4\n",
      "webcolors==1.13\n",
      "webencodings==0.5.1\n",
      "websocket-client==1.7.0\n",
      "websockets==11.0.3\n",
      "Werkzeug==3.0.1\n",
      "widgetsnbextension==4.0.10\n",
      "wordcloud==1.9.3\n",
      "wrapt==1.16.0\n",
      "xgboost==2.0.3\n",
      "yarl==1.9.4\n",
      "zipp==3.17.0\n"
     ]
    }
   ],
   "source": [
    "# libraires & thier versions\n",
    "!pip freeze"
   ]
  },
  {
   "cell_type": "markdown",
   "metadata": {},
   "source": [
    "All of this code was executed on the "
   ]
  },
  {
   "cell_type": "markdown",
   "metadata": {},
   "source": [
    "# 2. Dataset Exploration (5%)"
   ]
  },
  {
   "cell_type": "markdown",
   "metadata": {},
   "source": [
    "## Data Characteristics"
   ]
  },
  {
   "cell_type": "code",
   "execution_count": 4,
   "metadata": {},
   "outputs": [
    {
     "name": "stdout",
     "output_type": "stream",
     "text": [
      "Number of instances in Train:\n",
      "<class 'pandas.core.frame.DataFrame'>\n",
      "RangeIndex: 60000 entries, 0 to 59999\n",
      "Columns: 785 entries, label to pixel784\n",
      "dtypes: int64(785)\n",
      "memory usage: 359.3 MB\n",
      "\n",
      "Number of instances in Test:\n",
      "<class 'pandas.core.frame.DataFrame'>\n",
      "RangeIndex: 10000 entries, 0 to 9999\n",
      "Columns: 785 entries, label to pixel784\n",
      "dtypes: int64(785)\n",
      "memory usage: 59.9 MB\n"
     ]
    }
   ],
   "source": [
    "# number of instances\n",
    "print(\"Number of instances in Train:\")\n",
    "fashion_mnist_train.info()\n",
    "\n",
    "print(\"\\nNumber of instances in Test:\")\n",
    "fashion_mnist_test.info()"
   ]
  },
  {
   "cell_type": "code",
   "execution_count": 5,
   "metadata": {},
   "outputs": [
    {
     "data": {
      "text/html": [
       "<div>\n",
       "<style scoped>\n",
       "    .dataframe tbody tr th:only-of-type {\n",
       "        vertical-align: middle;\n",
       "    }\n",
       "\n",
       "    .dataframe tbody tr th {\n",
       "        vertical-align: top;\n",
       "    }\n",
       "\n",
       "    .dataframe thead th {\n",
       "        text-align: right;\n",
       "    }\n",
       "</style>\n",
       "<table border=\"1\" class=\"dataframe\">\n",
       "  <thead>\n",
       "    <tr style=\"text-align: right;\">\n",
       "      <th></th>\n",
       "      <th>label</th>\n",
       "      <th>pixel1</th>\n",
       "      <th>pixel2</th>\n",
       "      <th>pixel3</th>\n",
       "      <th>pixel4</th>\n",
       "      <th>pixel5</th>\n",
       "      <th>pixel6</th>\n",
       "      <th>pixel7</th>\n",
       "      <th>pixel8</th>\n",
       "      <th>pixel9</th>\n",
       "      <th>...</th>\n",
       "      <th>pixel775</th>\n",
       "      <th>pixel776</th>\n",
       "      <th>pixel777</th>\n",
       "      <th>pixel778</th>\n",
       "      <th>pixel779</th>\n",
       "      <th>pixel780</th>\n",
       "      <th>pixel781</th>\n",
       "      <th>pixel782</th>\n",
       "      <th>pixel783</th>\n",
       "      <th>pixel784</th>\n",
       "    </tr>\n",
       "  </thead>\n",
       "  <tbody>\n",
       "    <tr>\n",
       "      <th>0</th>\n",
       "      <td>2</td>\n",
       "      <td>0</td>\n",
       "      <td>0</td>\n",
       "      <td>0</td>\n",
       "      <td>0</td>\n",
       "      <td>0</td>\n",
       "      <td>0</td>\n",
       "      <td>0</td>\n",
       "      <td>0</td>\n",
       "      <td>0</td>\n",
       "      <td>...</td>\n",
       "      <td>0</td>\n",
       "      <td>0</td>\n",
       "      <td>0</td>\n",
       "      <td>0</td>\n",
       "      <td>0</td>\n",
       "      <td>0</td>\n",
       "      <td>0</td>\n",
       "      <td>0</td>\n",
       "      <td>0</td>\n",
       "      <td>0</td>\n",
       "    </tr>\n",
       "    <tr>\n",
       "      <th>1</th>\n",
       "      <td>9</td>\n",
       "      <td>0</td>\n",
       "      <td>0</td>\n",
       "      <td>0</td>\n",
       "      <td>0</td>\n",
       "      <td>0</td>\n",
       "      <td>0</td>\n",
       "      <td>0</td>\n",
       "      <td>0</td>\n",
       "      <td>0</td>\n",
       "      <td>...</td>\n",
       "      <td>0</td>\n",
       "      <td>0</td>\n",
       "      <td>0</td>\n",
       "      <td>0</td>\n",
       "      <td>0</td>\n",
       "      <td>0</td>\n",
       "      <td>0</td>\n",
       "      <td>0</td>\n",
       "      <td>0</td>\n",
       "      <td>0</td>\n",
       "    </tr>\n",
       "    <tr>\n",
       "      <th>2</th>\n",
       "      <td>6</td>\n",
       "      <td>0</td>\n",
       "      <td>0</td>\n",
       "      <td>0</td>\n",
       "      <td>0</td>\n",
       "      <td>0</td>\n",
       "      <td>0</td>\n",
       "      <td>0</td>\n",
       "      <td>5</td>\n",
       "      <td>0</td>\n",
       "      <td>...</td>\n",
       "      <td>0</td>\n",
       "      <td>0</td>\n",
       "      <td>0</td>\n",
       "      <td>30</td>\n",
       "      <td>43</td>\n",
       "      <td>0</td>\n",
       "      <td>0</td>\n",
       "      <td>0</td>\n",
       "      <td>0</td>\n",
       "      <td>0</td>\n",
       "    </tr>\n",
       "    <tr>\n",
       "      <th>3</th>\n",
       "      <td>0</td>\n",
       "      <td>0</td>\n",
       "      <td>0</td>\n",
       "      <td>0</td>\n",
       "      <td>1</td>\n",
       "      <td>2</td>\n",
       "      <td>0</td>\n",
       "      <td>0</td>\n",
       "      <td>0</td>\n",
       "      <td>0</td>\n",
       "      <td>...</td>\n",
       "      <td>3</td>\n",
       "      <td>0</td>\n",
       "      <td>0</td>\n",
       "      <td>0</td>\n",
       "      <td>0</td>\n",
       "      <td>1</td>\n",
       "      <td>0</td>\n",
       "      <td>0</td>\n",
       "      <td>0</td>\n",
       "      <td>0</td>\n",
       "    </tr>\n",
       "    <tr>\n",
       "      <th>4</th>\n",
       "      <td>3</td>\n",
       "      <td>0</td>\n",
       "      <td>0</td>\n",
       "      <td>0</td>\n",
       "      <td>0</td>\n",
       "      <td>0</td>\n",
       "      <td>0</td>\n",
       "      <td>0</td>\n",
       "      <td>0</td>\n",
       "      <td>0</td>\n",
       "      <td>...</td>\n",
       "      <td>0</td>\n",
       "      <td>0</td>\n",
       "      <td>0</td>\n",
       "      <td>0</td>\n",
       "      <td>0</td>\n",
       "      <td>0</td>\n",
       "      <td>0</td>\n",
       "      <td>0</td>\n",
       "      <td>0</td>\n",
       "      <td>0</td>\n",
       "    </tr>\n",
       "  </tbody>\n",
       "</table>\n",
       "<p>5 rows × 785 columns</p>\n",
       "</div>"
      ],
      "text/plain": [
       "   label  pixel1  pixel2  pixel3  pixel4  pixel5  pixel6  pixel7  pixel8  \\\n",
       "0      2       0       0       0       0       0       0       0       0   \n",
       "1      9       0       0       0       0       0       0       0       0   \n",
       "2      6       0       0       0       0       0       0       0       5   \n",
       "3      0       0       0       0       1       2       0       0       0   \n",
       "4      3       0       0       0       0       0       0       0       0   \n",
       "\n",
       "   pixel9  ...  pixel775  pixel776  pixel777  pixel778  pixel779  pixel780  \\\n",
       "0       0  ...         0         0         0         0         0         0   \n",
       "1       0  ...         0         0         0         0         0         0   \n",
       "2       0  ...         0         0         0        30        43         0   \n",
       "3       0  ...         3         0         0         0         0         1   \n",
       "4       0  ...         0         0         0         0         0         0   \n",
       "\n",
       "   pixel781  pixel782  pixel783  pixel784  \n",
       "0         0         0         0         0  \n",
       "1         0         0         0         0  \n",
       "2         0         0         0         0  \n",
       "3         0         0         0         0  \n",
       "4         0         0         0         0  \n",
       "\n",
       "[5 rows x 785 columns]"
      ]
     },
     "execution_count": 5,
     "metadata": {},
     "output_type": "execute_result"
    }
   ],
   "source": [
    "fashion_mnist_train.head()"
   ]
  },
  {
   "cell_type": "code",
   "execution_count": 6,
   "metadata": {},
   "outputs": [
    {
     "data": {
      "text/plain": [
       "array([2, 9, 6, 0, 3, 4, 5, 8, 7, 1])"
      ]
     },
     "execution_count": 6,
     "metadata": {},
     "output_type": "execute_result"
    }
   ],
   "source": [
    "# understanding the labels\n",
    "fashion_mnist_train['label'].unique()"
   ]
  },
  {
   "cell_type": "markdown",
   "metadata": {},
   "source": [
    "Based on the information provided in the data description, the label numbers correspond to the following clothing items:\n",
    "<table>\n",
    "  <tr>\n",
    "    <th>Label</th>\n",
    "    <th>Clothing</th>\n",
    "  </tr>\n",
    "  <tr>\n",
    "    <td>0</td>\n",
    "    <td>T-shirt/ Top</td>\n",
    "  </tr>\n",
    "  <tr>\n",
    "    <td>1</td>\n",
    "    <td>Trouser</td>\n",
    "  </tr>\n",
    "  <tr>\n",
    "    <td>2</td>\n",
    "    <td>Pullover</td>\n",
    "  </tr>\n",
    "  <tr>\n",
    "    <td>3</td>\n",
    "    <td>Dress</td>\n",
    "  </tr>\n",
    "  <tr>\n",
    "    <td>4</td>\n",
    "    <td>Coat</td>\n",
    "  </tr>\n",
    "  <tr>\n",
    "    <td>5</td>\n",
    "    <td>Sandal</td>\n",
    "  </tr>\n",
    "  <tr>\n",
    "    <td>6</td>\n",
    "    <td>Shirt</td>\n",
    "  </tr>\n",
    "  <tr>\n",
    "    <td>7</td>\n",
    "    <td>Sneaker</td>\n",
    "  </tr>\n",
    "  <tr>\n",
    "    <td>8</td>\n",
    "    <td>Bag</td>\n",
    "  </tr>\n",
    "  <tr>\n",
    "    <td>9</td>\n",
    "    <td>Ankle boot</td>\n",
    "  </tr>\n",
    "</table>"
   ]
  },
  {
   "cell_type": "code",
   "execution_count": 7,
   "metadata": {},
   "outputs": [
    {
     "data": {
      "text/plain": [
       "label       0\n",
       "pixel1      0\n",
       "pixel2      0\n",
       "pixel3      0\n",
       "pixel4      0\n",
       "           ..\n",
       "pixel780    0\n",
       "pixel781    0\n",
       "pixel782    0\n",
       "pixel783    0\n",
       "pixel784    0\n",
       "Length: 785, dtype: int64"
      ]
     },
     "execution_count": 7,
     "metadata": {},
     "output_type": "execute_result"
    }
   ],
   "source": [
    "fashion_mnist_train.min()"
   ]
  },
  {
   "cell_type": "code",
   "execution_count": 8,
   "metadata": {},
   "outputs": [
    {
     "data": {
      "text/plain": [
       "label         9\n",
       "pixel1       16\n",
       "pixel2       36\n",
       "pixel3      226\n",
       "pixel4      164\n",
       "           ... \n",
       "pixel780    255\n",
       "pixel781    255\n",
       "pixel782    255\n",
       "pixel783    255\n",
       "pixel784    170\n",
       "Length: 785, dtype: int64"
      ]
     },
     "execution_count": 8,
     "metadata": {},
     "output_type": "execute_result"
    }
   ],
   "source": [
    "fashion_mnist_train.max()"
   ]
  },
  {
   "cell_type": "markdown",
   "metadata": {},
   "source": [
    "From the above cells we can see that the pixel value of the image range from 0 to 255."
   ]
  },
  {
   "cell_type": "markdown",
   "metadata": {},
   "source": [
    "## Data Preprocessing"
   ]
  },
  {
   "cell_type": "code",
   "execution_count": 9,
   "metadata": {},
   "outputs": [],
   "source": [
    "# converting the data frame to numpy array for easy manipulation\n",
    "train_np_array = np.array(fashion_mnist_train, dtype = 'float32')\n",
    "test_np_array = np.array(fashion_mnist_test, dtype = 'float32')"
   ]
  },
  {
   "cell_type": "markdown",
   "metadata": {},
   "source": [
    "### Normalizing Data"
   ]
  },
  {
   "cell_type": "markdown",
   "metadata": {},
   "source": [
    "Below are two preprocessing steps:\n",
    "1. Split the attributes (x) and the label (y)\n",
    "2. Normalize the pixel values (instead of 0 to 255 --> 0 to 1)"
   ]
  },
  {
   "cell_type": "code",
   "execution_count": 10,
   "metadata": {},
   "outputs": [],
   "source": [
    "# spliting x train and y train & normalizing x train\n",
    "x_train = train_np_array[:,1:]/255\n",
    "y_train = train_np_array[:,0]\n",
    "\n",
    "# spliting x test and y test & normalizing x test\n",
    "x_test= test_np_array[:,1:]/255\n",
    "y_test=test_np_array[:,0]"
   ]
  },
  {
   "cell_type": "markdown",
   "metadata": {},
   "source": [
    "### Train & Validation Split"
   ]
  },
  {
   "cell_type": "code",
   "execution_count": 11,
   "metadata": {},
   "outputs": [],
   "source": [
    "from sklearn.model_selection import train_test_split"
   ]
  },
  {
   "cell_type": "code",
   "execution_count": 12,
   "metadata": {},
   "outputs": [
    {
     "name": "stdout",
     "output_type": "stream",
     "text": [
      "Number of rows in x_train --> 48000 & in the x_validate --> 12000\n"
     ]
    }
   ],
   "source": [
    "x_train, x_validate, y_train, y_validate = train_test_split(x_train, y_train, test_size=0.2, random_state=2315)\n",
    "print(f'Number of rows in x_train --> {len(x_train)} & in the x_validate --> {len(x_validate)}')"
   ]
  },
  {
   "cell_type": "markdown",
   "metadata": {},
   "source": [
    "## Visualizing Sample Images"
   ]
  },
  {
   "cell_type": "code",
   "execution_count": 13,
   "metadata": {},
   "outputs": [
    {
     "data": {
      "image/png": "[encoded data removed]",
      "text/plain": [
       "<Figure size 1000x1000 with 25 Axes>"
      ]
     },
     "metadata": {},
     "output_type": "display_data"
    }
   ],
   "source": [
    "class_names = ['T_shirt/ Top', 'Trouser', 'Pullover', 'Dress', 'Coat', \n",
    "               'Sandal', 'Shirt', 'Sneaker', 'Bag', 'Ankle Boot']\n",
    "\n",
    "plt.figure(figsize=(10, 10))\n",
    "# plotting the first 25 images with 5x5 subplots\n",
    "for i in range(25):\n",
    "    plt.subplot(5, 5, i + 1)\n",
    "    # no need for any x or y labels (ticks)\n",
    "    plt.xticks([])\n",
    "    plt.yticks([])\n",
    "    # no need for a grid\n",
    "    plt.grid(False)\n",
    "    plt.imshow(x_train[i].reshape((28,28)))\n",
    "    # getting the label number\n",
    "    label_index = int(y_train[i])\n",
    "    # displaying the corresponding clothing class name\n",
    "    plt.title(class_names[label_index])\n",
    "plt.show()"
   ]
  },
  {
   "cell_type": "code",
   "execution_count": 14,
   "metadata": {},
   "outputs": [
    {
     "data": {
      "image/png": "[encoded data removed]",
      "text/plain": [
       "<Figure size 1500x500 with 10 Axes>"
      ]
     },
     "metadata": {},
     "output_type": "display_data"
    }
   ],
   "source": [
    "plt.figure(figsize=(15, 5))\n",
    "\n",
    "# Creating a dict to keep track of the labels we've seen\n",
    "seen_labels = {}\n",
    "\n",
    "# Looping through the dataset until we find one example of each label\n",
    "for i in range(len(x_train)):\n",
    "    label = int(y_train[i])\n",
    "    # if it is not present, let's add it to the dictionary\n",
    "    if label not in seen_labels and len(seen_labels) < 10:\n",
    "        seen_labels[label] = i\n",
    "    # if all 10 labels are found, break out\n",
    "    if len(seen_labels) == 10:\n",
    "        break\n",
    "\n",
    "# Plotting one image from each class\n",
    "for idx, (label, image_idx) in enumerate(sorted(seen_labels.items())):\n",
    "    plt.subplot(2, 5, idx + 1)\n",
    "    plt.xticks([])\n",
    "    plt.yticks([])\n",
    "    plt.grid(False)\n",
    "    plt.imshow(x_train[image_idx].reshape((28,28)))\n",
    "    plt.title(f'{class_names[label]}\\n(Label: {label})')\n",
    "\n",
    "plt.tight_layout()\n",
    "plt.show()"
   ]
  },
  {
   "cell_type": "markdown",
   "metadata": {},
   "source": [
    "# 3. Basic CNN Model Design and Training (25%)\n",
    "\n",
    "- Build a basic CNN model with:\n",
    "  - A convolutional layer followed by max-pooling.\n",
    "  - Additional convolutional layers as needed.\n",
    "  - A fully connected (dense) layer and an output layer with 10 units (softmax activation).\n",
    "- Use ReLU activation for hidden layers.\n",
    "- Compile the model with a suitable loss function (e.g., categorical crossentropy) and optimizer (e.g., Adam or SGD).\n",
    "- Train the model for at least 10 epochs, tracking training/validation accuracy and loss."
   ]
  },
  {
   "cell_type": "markdown",
   "metadata": {},
   "source": [
    "## Data Preprocessing For CNN Model"
   ]
  },
  {
   "cell_type": "markdown",
   "metadata": {},
   "source": [
    "Let's see the shape of our train, validate and test:"
   ]
  },
  {
   "cell_type": "code",
   "execution_count": 15,
   "metadata": {},
   "outputs": [
    {
     "data": {
      "text/plain": [
       "(48000, 784)"
      ]
     },
     "execution_count": 15,
     "metadata": {},
     "output_type": "execute_result"
    }
   ],
   "source": [
    "x_train.shape"
   ]
  },
  {
   "cell_type": "code",
   "execution_count": 17,
   "metadata": {},
   "outputs": [
    {
     "data": {
      "text/plain": [
       "(12000, 784)"
      ]
     },
     "execution_count": 17,
     "metadata": {},
     "output_type": "execute_result"
    }
   ],
   "source": [
    "x_validate.shape"
   ]
  },
  {
   "cell_type": "code",
   "execution_count": 16,
   "metadata": {},
   "outputs": [
    {
     "data": {
      "text/plain": [
       "(10000, 784)"
      ]
     },
     "execution_count": 16,
     "metadata": {},
     "output_type": "execute_result"
    }
   ],
   "source": [
    "x_test.shape"
   ]
  },
  {
   "cell_type": "markdown",
   "metadata": {},
   "source": [
    "From the above we can see that the original shape of the x_train is (48000, 784) & x_validate is (12000, 784).\n",
    "\n",
    "CNN models require input data to be in the following dimension:\n",
    "\n",
    "_Image Shape =(number of samples, m, n, number of color channels)_\n",
    "\n",
    "Where:\n",
    "- _m, n_ – represent the image in a _m_*_n_ matrix.\n",
    "In our case _m_ and _n_ are both 28 (since we have 28 * 28 pixels)\n",
    "- _number of color channels_ – in our case we have only 1 color channel. Sometimes images have 3 color channels, red, green and blue, for each pixel. In such cases this value will be three.\n"
   ]
  },
  {
   "cell_type": "code",
   "execution_count": 18,
   "metadata": {},
   "outputs": [],
   "source": [
    "image_shape = (28, 28, 1)"
   ]
  },
  {
   "cell_type": "code",
   "execution_count": 19,
   "metadata": {},
   "outputs": [],
   "source": [
    "x_train = x_train.reshape(x_train.shape[0],*image_shape)\n",
    "x_test = x_test.reshape(x_test.shape[0],*image_shape)\n",
    "x_validate = x_validate.reshape(x_validate.shape[0],*image_shape)"
   ]
  },
  {
   "cell_type": "code",
   "execution_count": 20,
   "metadata": {},
   "outputs": [
    {
     "name": "stdout",
     "output_type": "stream",
     "text": [
      "x train shape: (48000, 28, 28, 1)\n",
      "x validate shape: (12000, 28, 28, 1)\n",
      "x test shape: (10000, 28, 28, 1)\n"
     ]
    }
   ],
   "source": [
    "print(f'x train shape: {x_train.shape}')\n",
    "print(f'x validate shape: {x_validate.shape}')\n",
    "print(f'x test shape: {x_test.shape}')"
   ]
  },
  {
   "cell_type": "markdown",
   "metadata": {},
   "source": [
    "## Baseline CNN"
   ]
  },
  {
   "cell_type": "code",
   "execution_count": 21,
   "metadata": {},
   "outputs": [],
   "source": [
    "from tensorflow.keras.models import Sequential\n",
    "from tensorflow.keras.layers import Conv2D, MaxPooling2D, Flatten, Dense, Dropout, BatchNormalization\n",
    "from tensorflow.keras.optimizers import Adam"
   ]
  },
  {
   "cell_type": "code",
   "execution_count": 22,
   "metadata": {},
   "outputs": [],
   "source": [
    "cnn_model = Sequential([\n",
    "    Conv2D(filters=32,kernel_size=3,activation='relu',input_shape = image_shape),\n",
    "    MaxPooling2D(pool_size=2) ,# down sampling the output: instead of 28*28 now it get divided by 2 --> 14*14\n",
    "    Flatten(), # flatten out the layers\n",
    "    Dense(32,activation='relu'),\n",
    "    Dense(10,activation = 'softmax')\n",
    "])\n"
   ]
  },
  {
   "cell_type": "markdown",
   "metadata": {},
   "source": [
    "# 4. Experimentation with Architectures (30%)\n",
    "\n",
    "- Modify the CNN architecture to include:\n",
    "  - Different numbers of convolutional layers or filters.\n",
    "  - Use of dropout layers for regularization.\n",
    "  - Batch normalization layers for improved training stability.\n",
    "- Train each variation and document the impact on performance."
   ]
  },
  {
   "cell_type": "markdown",
   "metadata": {},
   "source": [
    "# 5. Model Evaluation and Comparison (20%)"
   ]
  },
  {
   "cell_type": "code",
   "execution_count": null,
   "metadata": {},
   "outputs": [],
   "source": []
  },
  {
   "cell_type": "markdown",
   "metadata": {},
   "source": [
    "# 6. Analysis and Insights (10%)"
   ]
  }
 ],
 "metadata": {
  "kernelspec": {
   "display_name": "info7390",
   "language": "python",
   "name": "python3"
  },
  "language_info": {
   "codemirror_mode": {
    "name": "ipython",
    "version": 3
   },
   "file_extension": ".py",
   "mimetype": "text/x-python",
   "name": "python",
   "nbconvert_exporter": "python",
   "pygments_lexer": "ipython3",
   "version": "3.8.17"
  }
 },
 "nbformat": 4,
 "nbformat_minor": 2
}
